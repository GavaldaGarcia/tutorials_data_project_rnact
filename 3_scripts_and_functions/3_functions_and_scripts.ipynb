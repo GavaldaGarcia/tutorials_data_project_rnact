{
 "cells": [
  {
   "cell_type": "markdown",
   "metadata": {},
   "source": [
    "# Tutorial 3: Scripts and functions"
   ]
  },
  {
   "cell_type": "markdown",
   "metadata": {},
   "source": [
    "## Scripting"
   ]
  },
  {
   "cell_type": "markdown",
   "metadata": {},
   "source": [
    "So far we have been working on jupyter notebooks, which are great for many things, like trying out new things, have code and explanations together (as we're doing for this course) or data exploration. However, this is **not the normal way of programming**. \n",
    "\n",
    "When you want to ensure that the code is run in the right order, as a whole and without possible error that could arrise from a faulty execution, you write a **script**. Python scripts can be easily identified with the extension **.py**, whereas jupyter notebooks have the extension **.ipyn**. \n",
    "\n",
    "Contrarily to jupyter notebooks, python scripts are readable in any text editor, the same way that you would open a .txt file. \n",
    "\n",
    "There is an example python script in this folder with the name `example_script.py`. Please open it and take a look. "
   ]
  },
  {
   "cell_type": "markdown",
   "metadata": {},
   "source": [
    "Familiar right? Programming in a script and on a jupyter notebook is pretty much the same besides some magical (non-requested) prints that jupyter often decides to make. \n",
    "\n",
    "When you are working on a script, all the code is executed at once, instead of in cells, like it happens with jupyter. Let's execute our example script! \n",
    "\n",
    "- To do it, you'll first need to access a python terminal, by clicking the + button on the top left of your screen, then select \"**Terminal**\" on the \"other\" category. \n",
    "- Remember to activate you tutorials conda environment `conda activate tutorials`\n",
    "- Now, make sure you're in the directory `3_scripts_and_functions`\n",
    "- Execute the script by typing `python example_script.py` on the terminal"
   ]
  },
  {
   "cell_type": "markdown",
   "metadata": {},
   "source": [
    "Because there is no way to introduce markdown cells like one can do on jupyter notebooks, it is of great importance to **comment** your code to explain what is going on at every point. "
   ]
  },
  {
   "cell_type": "markdown",
   "metadata": {},
   "source": [
    "## Functions"
   ]
  },
  {
   "cell_type": "markdown",
   "metadata": {},
   "source": [
    "Up until now, we have been executing code without containing it in any structure. In other words, we gave instructions to the program at the same time that they had to be executed. This is ok for (very) short programs, but as soon as you hit the 30 lines of code, things can get messy and it is better to organize your code in **functions**. Functions are pieces of code that are self-contained, and the variable inside these functions do not exist outside these functions. Let's see an example!"
   ]
  },
  {
   "cell_type": "code",
   "execution_count": null,
   "metadata": {},
   "outputs": [],
   "source": [
    "def my_sum_function(value_0, value_1):\n",
    "    sum_result = value_0 + value_1\n",
    "    return sum_result "
   ]
  },
  {
   "cell_type": "code",
   "execution_count": null,
   "metadata": {},
   "outputs": [],
   "source": [
    "potato = my_sum_function(15,27)\n",
    "result = my_sum_function('15','27')\n",
    "print(potato, result)"
   ]
  },
  {
   "cell_type": "markdown",
   "metadata": {},
   "source": [
    "We defined our function, then called it and it **returned** the defined output. By using the command `return`, we allow a **local variable**, which only exists inside the function, to be extracted to the environment from which the variable was called. This could be either the global environment, or another function. In other words, this is what happens if we try to call local variables:"
   ]
  },
  {
   "cell_type": "code",
   "execution_count": null,
   "metadata": {},
   "outputs": [],
   "source": [
    "print(value_0)"
   ]
  },
  {
   "cell_type": "code",
   "execution_count": null,
   "metadata": {},
   "outputs": [],
   "source": [
    "print(sum_result)"
   ]
  },
  {
   "cell_type": "markdown",
   "metadata": {},
   "source": [
    "But wait, we said that returned variable could get out of the function! Why is `sum_result` not defined in our global environment? Because the thing that is returned is not the variable itself, but the value that it contains, which is then placed into another variable. In our case, the value of the returned variable was 42, which was then stored in the variable `result`, which can be called globally. "
   ]
  },
  {
   "cell_type": "markdown",
   "metadata": {},
   "source": [
    "Why making it so complicated? To make it flexible!\n",
    "\n",
    "What if I want to use this function multiple times? It would be inconvenient to have my variable overwritten every time. \n",
    "\n",
    "Let's call it from a double loop, so we can apply it for every combination of values. "
   ]
  },
  {
   "cell_type": "code",
   "execution_count": null,
   "metadata": {},
   "outputs": [],
   "source": [
    "values_list = [1,4,18.8, 33, 3.14]\n",
    "\n",
    "results_list = []\n",
    "for i in values_list:\n",
    "    for j in values_list:\n",
    "        my_result = my_sum_function(i,j)\n",
    "        results_list.append(my_result)  # Remember the append function for the homework\n",
    "        \n",
    "print(results_list)"
   ]
  },
  {
   "cell_type": "markdown",
   "metadata": {},
   "source": [
    "Or in a more pythonic way: (don't worry, you don't need this... **YET**)"
   ]
  },
  {
   "cell_type": "code",
   "execution_count": null,
   "metadata": {},
   "outputs": [],
   "source": [
    "print([my_sum_function(i,j) for i in values_list for j in values_list])"
   ]
  },
  {
   "cell_type": "markdown",
   "metadata": {},
   "source": [
    "### Import functions"
   ]
  },
  {
   "cell_type": "code",
   "execution_count": 1,
   "metadata": {},
   "outputs": [],
   "source": [
    "import example_source"
   ]
  },
  {
   "cell_type": "code",
   "execution_count": 2,
   "metadata": {},
   "outputs": [
    {
     "data": {
      "text/plain": [
       "3"
      ]
     },
     "execution_count": 2,
     "metadata": {},
     "output_type": "execute_result"
    }
   ],
   "source": [
    "example_source.my_sum_function(1,2)"
   ]
  },
  {
   "cell_type": "code",
   "execution_count": 6,
   "metadata": {},
   "outputs": [
    {
     "data": {
      "text/plain": [
       "1"
      ]
     },
     "execution_count": 6,
     "metadata": {},
     "output_type": "execute_result"
    }
   ],
   "source": [
    "example_source.my_substraction_function(1,2, reverse=True)"
   ]
  },
  {
   "cell_type": "code",
   "execution_count": 11,
   "metadata": {},
   "outputs": [
    {
     "data": {
      "text/plain": [
       "'fool-born'"
      ]
     },
     "execution_count": 11,
     "metadata": {},
     "output_type": "execute_result"
    }
   ],
   "source": [
    "example_source.random_insult()"
   ]
  },
  {
   "cell_type": "markdown",
   "metadata": {},
   "source": [
    "So now let's say that you're in a big project, that needs a lot of different functions. **Hundreds** of lines of code just annoying in your main code. These functions simply work, and you don't need to check them everytime, and maybe you are reusing them from another project. Think of them as protocols for your lab experiments, you don't write them everytime, you just go to the folder where you store them and print them before doing your experiment. \n",
    "\n",
    "Well so you can do the same with code. You can have functions in a python file, and call it from another python script. Please open the python scripts `example_source.py` and `calling_functions_script.py`"
   ]
  },
  {
   "cell_type": "markdown",
   "metadata": {},
   "source": [
    "We're doing a live demo and demosntration on how they work looking at the scripts!"
   ]
  },
  {
   "cell_type": "markdown",
   "metadata": {},
   "source": [
    "## Homework"
   ]
  },
  {
   "cell_type": "markdown",
   "metadata": {},
   "source": [
    "- Create a function in your own functions source python file. This function has to add two **random** numbers that each are between 0 and 5 *(eg. 3 + 4)* and returns the output. \n",
    "\n",
    "- On your main **script** (not jupyter notebook), run this function 50 times and make the outputted values be appended to a list. \n",
    "\n",
    "- Then, feed this list to **another function** from your source file. This function must return a sorted unique list of sorted numbers. To do this, I want you to create an empty list and check, for each value of the input list, if it is already present in the output list. If it is not present, then add it to the output list. Finally, sort the list. \n",
    "\n",
    "You will have to use google for this assignment, and although there are implemented ways of getting a non-redundant list of elements (for instance, with sets), I want you to ignore those google entries and implement this bit yourself. You will also need to google how the **random** package works on python. You will learn A LOT from trying to find your way through python documentation, and my slack is always open for questions if you get stuck :)\n",
    "\n",
    "**GOOD LUCK!**\n"
   ]
  },
  {
   "cell_type": "code",
   "execution_count": null,
   "metadata": {},
   "outputs": [],
   "source": []
  }
 ],
 "metadata": {
  "kernelspec": {
   "display_name": "Python 3",
   "language": "python",
   "name": "python3"
  },
  "language_info": {
   "codemirror_mode": {
    "name": "ipython",
    "version": 3
   },
   "file_extension": ".py",
   "mimetype": "text/x-python",
   "name": "python",
   "nbconvert_exporter": "python",
   "pygments_lexer": "ipython3",
   "version": "3.6.10"
  }
 },
 "nbformat": 4,
 "nbformat_minor": 4
}
