{
 "cells": [
  {
   "cell_type": "markdown",
   "metadata": {},
   "source": [
    "# Tutorial 4. Plotting (and fitting)"
   ]
  },
  {
   "cell_type": "markdown",
   "metadata": {},
   "source": [
    "We have already learned quite a lot of python! We know the types of data, how to iterate throught indexable objects, a bit of pandas, how to use functions, scripts and flow control. At this point, many people already say that they can program. But we want to learn how to make programming useful for your research, so we need to keep pushing now :)\n",
    "\n",
    "In this lesson, we will learn about simple data plotting and also how to make a simple linear fit to our data. We will be using the historical and robust package `matplotlib` for this, but keep in mind that other packages such as `seaborn` and `plotly` offer more visually-appealing plots. "
   ]
  },
  {
   "cell_type": "markdown",
   "metadata": {},
   "source": [
    "## Basic plotting"
   ]
  },
  {
   "cell_type": "code",
   "execution_count": null,
   "metadata": {},
   "outputs": [],
   "source": [
    "import matplotlib.pyplot as plt"
   ]
  },
  {
   "cell_type": "markdown",
   "metadata": {},
   "source": [
    "Let's begin with a scatter plot.\n",
    "\n",
    "When you want to make a scatter plot, you must pass the data in two lists: one for the x values and one for the y values. Such as this"
   ]
  },
  {
   "cell_type": "code",
   "execution_count": null,
   "metadata": {},
   "outputs": [],
   "source": [
    "plt.scatter([1,2,3,4,5,6], [2,4,6,8,10,12])\n",
    "plt.show()"
   ]
  },
  {
   "cell_type": "markdown",
   "metadata": {},
   "source": [
    "Of course, you can also save the lists in a variable and pass the variables (they don't have to be called x and y by the way)."
   ]
  },
  {
   "cell_type": "code",
   "execution_count": null,
   "metadata": {},
   "outputs": [],
   "source": [
    "x = [1,2,3,4,5,6]\n",
    "y = [2,4,6,8,10,12]\n",
    "print(x)"
   ]
  },
  {
   "cell_type": "code",
   "execution_count": null,
   "metadata": {},
   "outputs": [],
   "source": [
    "plt.scatter(x,y)\n",
    "plt.show()"
   ]
  },
  {
   "cell_type": "markdown",
   "metadata": {},
   "source": [
    "You can also plot a line that connects all the dots, but keep in mind that this is not a regression line."
   ]
  },
  {
   "cell_type": "code",
   "execution_count": null,
   "metadata": {},
   "outputs": [],
   "source": [
    "plt.plot(x,y)\n",
    "plt.show()"
   ]
  },
  {
   "cell_type": "markdown",
   "metadata": {},
   "source": [
    "Let me show you how this is not a regression line:"
   ]
  },
  {
   "cell_type": "code",
   "execution_count": null,
   "metadata": {},
   "outputs": [],
   "source": [
    "plt.plot([1,2,3,4],[2,1,5,3])\n",
    "plt.show()"
   ]
  },
  {
   "cell_type": "markdown",
   "metadata": {},
   "source": [
    "## Enrich your plots with labels and titles"
   ]
  },
  {
   "cell_type": "markdown",
   "metadata": {},
   "source": [
    "A plot is nothing without a description of which information it contains. In the same plot, we can add a title, axis labels, several plots, text, modify the style of the background... I don't even know all the posibilities, but the formatting options are rich on `matplotlib`. \n",
    "\n",
    "The one thing to keep in mind is that all that needs to go into the same plot must be written before `plt.show()`, which displays the figure. After showing the image, the plot should be reseted, but this could also be forced with `plt.close()` if it doesn't happen. This is very important if you're **saving the figure** instead of showing it (more of this in the homework). "
   ]
  },
  {
   "cell_type": "code",
   "execution_count": null,
   "metadata": {},
   "outputs": [],
   "source": [
    "plt.scatter(x,y, color='orange', s = 100, marker='v')  # Scatter plot of our points\n",
    "plt.plot(x,y, '-.', color = 'orange', linewidth = 2)  # Line-connected plot of our points\n",
    "plt.scatter([0,1,2,3,4],[0,1,2,3,4], color='blue', s = 100, marker='o')  # Scatter plot of our points\n",
    "plt.plot([0,1,2,3,4],[0,1,2,3,4], '--', color = 'blue', linewidth = 2)  # Line-connected plot of our points\n",
    "plt.title('My first plot')  # Title\n",
    "plt.xlabel('Independent variable')  # x-axis label\n",
    "plt.ylabel('Dependent variable')  # y-axis label\n",
    "plt.show()  # show the plot in screen"
   ]
  },
  {
   "cell_type": "markdown",
   "metadata": {},
   "source": [
    "You can also do cool things like changing the size and color for each individual dot, passing it on lists:"
   ]
  },
  {
   "cell_type": "code",
   "execution_count": null,
   "metadata": {},
   "outputs": [],
   "source": [
    "dot_color = ['red', 'darkorange', 'yellow', 'green', 'blue', 'darkviolet']\n",
    "dot_size = [100, 60, 500, 150, 100, 300]\n",
    "plt.scatter(x,y, color=dot_color, s = dot_size)  # Scatter plot of our points\n",
    "plt.show()"
   ]
  },
  {
   "cell_type": "markdown",
   "metadata": {},
   "source": [
    "## Numpy and scipy: the fundamentals of fast calculations on python"
   ]
  },
  {
   "cell_type": "markdown",
   "metadata": {},
   "source": [
    "Although python has native math operations, these operations are pretty slow compared with how fast they can be done. Python offers packages like **numpy** and scipy that offer fast pre-implemented operations. Numpy works with **arrays** instead of lists. They seem to behave very similarly to lists, as they are also indexed and can be interated, but they provide very easy and fast operation of their values. "
   ]
  },
  {
   "cell_type": "code",
   "execution_count": null,
   "metadata": {},
   "outputs": [],
   "source": [
    "import numpy as np"
   ]
  },
  {
   "cell_type": "code",
   "execution_count": null,
   "metadata": {},
   "outputs": [],
   "source": [
    "x = np.array([1,2,3,4,5,6])\n",
    "y = np.array([2,4,6,8,10,12])\n",
    "print(x)\n",
    "print(y)\n",
    "print(x[-1])\n",
    "print(type(x))"
   ]
  },
  {
   "cell_type": "markdown",
   "metadata": {},
   "source": [
    "- This works:"
   ]
  },
  {
   "cell_type": "code",
   "execution_count": null,
   "metadata": {},
   "outputs": [],
   "source": [
    "print(x*y)\n",
    "print(x+y)"
   ]
  },
  {
   "cell_type": "markdown",
   "metadata": {},
   "source": [
    "- This does not work:"
   ]
  },
  {
   "cell_type": "code",
   "execution_count": null,
   "metadata": {},
   "outputs": [],
   "source": [
    "print([1,2,3,4]*[2,1,2,4])"
   ]
  },
  {
   "cell_type": "markdown",
   "metadata": {},
   "source": [
    "- This doesn't work the way we wanted:"
   ]
  },
  {
   "cell_type": "code",
   "execution_count": null,
   "metadata": {},
   "outputs": [],
   "source": [
    "print([1,2,3,4]+[2,1,2,4])"
   ]
  },
  {
   "cell_type": "markdown",
   "metadata": {},
   "source": [
    "### Plotting with numpy"
   ]
  },
  {
   "cell_type": "markdown",
   "metadata": {},
   "source": [
    "We can plot numpy arrays as if they were lists:"
   ]
  },
  {
   "cell_type": "code",
   "execution_count": null,
   "metadata": {},
   "outputs": [],
   "source": [
    "x = np.array([1,2,3,4,5,6])\n",
    "y = np.array([2,4,6,8,10,12])\n",
    "plt.plot(x,y)\n",
    "plt.show()"
   ]
  },
  {
   "cell_type": "markdown",
   "metadata": {},
   "source": [
    "But let's do something more interesting than just plotting. Let's change the values of y and fit a linear regression.\n",
    "This is how the plot looks with the new y values"
   ]
  },
  {
   "cell_type": "code",
   "execution_count": null,
   "metadata": {},
   "outputs": [],
   "source": [
    "y = np.array([1,5,4,7,10,8])\n",
    "plt.scatter(x,y)\n",
    "plt.show()"
   ]
  },
  {
   "cell_type": "markdown",
   "metadata": {},
   "source": [
    "And now we're going to apply a linear regression to our data. We will do this by using the function `linregress`, contained in `scipy.stats`. Notice that we have imported `scipy.stats` as `stats`. We can give the names that we desire to the imported packages. \n",
    "\n",
    "This linear regression returns 5 values, and I know that not because I remember, but because I googled the documentation page, which you also should do: https://docs.scipy.org/doc/scipy/reference/generated/scipy.stats.linregress.html"
   ]
  },
  {
   "cell_type": "code",
   "execution_count": null,
   "metadata": {},
   "outputs": [],
   "source": [
    "import scipy.stats as stats\n",
    "slope, intercept, r_value, p_value, std_err = stats.linregress(x,y)"
   ]
  },
  {
   "cell_type": "markdown",
   "metadata": {},
   "source": [
    "Here we are obtaining the y values of our fit for each point in our x values. It's the famous ax + b formula that we learned in highschool, but programming it this time:"
   ]
  },
  {
   "cell_type": "code",
   "execution_count": null,
   "metadata": {},
   "outputs": [],
   "source": [
    "new_fit = x*slope + intercept\n",
    "print(new_fit)"
   ]
  },
  {
   "cell_type": "markdown",
   "metadata": {},
   "source": [
    "So let's plot it all together! This figure will have the following components:\n",
    "- Scatter plot of our data points\n",
    "- Linear regression of these points\n",
    "- R and R2 values displayed\n",
    "- Slope and intercept values displayed\n",
    "- Title and labels displayed"
   ]
  },
  {
   "cell_type": "code",
   "execution_count": null,
   "metadata": {},
   "outputs": [],
   "source": [
    "plt.scatter(x,y)\n",
    "plt.plot(x, new_fit)\n",
    "plt.text(1, 8,'R value = {0}'.format(r_value))\n",
    "plt.text(1, 7,'R2 value = {0}'.format(str(r_value*r_value)))\n",
    "plt.text(2, 2, 'Intercept = {0}'.format(intercept))\n",
    "plt.text(2, 1, 'Slope = {0}'.format(slope))\n",
    "plt.title('Linear fit')\n",
    "plt.xlabel('Independent variable')\n",
    "plt.ylabel('Dependent variable')\n",
    "plt.show()"
   ]
  },
  {
   "cell_type": "markdown",
   "metadata": {},
   "source": [
    "## Pandas and numpy"
   ]
  },
  {
   "cell_type": "markdown",
   "metadata": {},
   "source": [
    "Pandas is really designed FROM numpy. When you select a pandas column or row, you obtain a pandas Series. These Series are actually built with numpy arrays as their base. This is handy because it allows to perform many of the operations that numpy allows. For instance:"
   ]
  },
  {
   "cell_type": "code",
   "execution_count": null,
   "metadata": {},
   "outputs": [],
   "source": [
    "import pandas as pd\n",
    "df = pd.DataFrame({'first_column':[1,2,3,4,5,6], 'second_column':[5,2,3,1,5,7], 'third_column':[3,3,3,3,3,3], 'names':['spam', 'spam', 'eggs', 'eggs', 'ham', 'ham']})\n",
    "df"
   ]
  },
  {
   "cell_type": "code",
   "execution_count": null,
   "metadata": {},
   "outputs": [],
   "source": [
    "df['first_column']"
   ]
  },
  {
   "cell_type": "code",
   "execution_count": null,
   "metadata": {},
   "outputs": [],
   "source": [
    "print(type(df['first_column']))  # A series\n",
    "print(type(np.array(df['first_column'])))  # In case you need to conver it to a numpy array"
   ]
  },
  {
   "cell_type": "code",
   "execution_count": null,
   "metadata": {},
   "outputs": [],
   "source": [
    "df['first_column']*df['second_column']"
   ]
  },
  {
   "cell_type": "code",
   "execution_count": null,
   "metadata": {},
   "outputs": [],
   "source": [
    "df['first times second'] = df['first_column']*df['second_column']"
   ]
  },
  {
   "cell_type": "code",
   "execution_count": null,
   "metadata": {},
   "outputs": [],
   "source": [
    "df"
   ]
  },
  {
   "cell_type": "markdown",
   "metadata": {},
   "source": [
    "And as a big hint for the homework and a reminder on how to subset from pandas, let's subset our dataframe into 3 dataframes, one for each name:"
   ]
  },
  {
   "cell_type": "code",
   "execution_count": null,
   "metadata": {},
   "outputs": [],
   "source": [
    "df['names'].unique()"
   ]
  },
  {
   "cell_type": "code",
   "execution_count": null,
   "metadata": {},
   "outputs": [],
   "source": [
    "df['names'] != 'eggs'"
   ]
  },
  {
   "cell_type": "code",
   "execution_count": null,
   "metadata": {},
   "outputs": [],
   "source": [
    "df[df['names']!='eggs']"
   ]
  },
  {
   "cell_type": "code",
   "execution_count": null,
   "metadata": {},
   "outputs": [],
   "source": [
    "for name in df['names'].unique():\n",
    "    print(name)\n",
    "    temp_df = df[df['names'] == name]\n",
    "    print(temp_df)  # OR DO ANYTHING ELSE WITH THIS DATAFRAME"
   ]
  },
  {
   "cell_type": "markdown",
   "metadata": {},
   "source": [
    "## HOMEWORK"
   ]
  },
  {
   "cell_type": "markdown",
   "metadata": {},
   "source": [
    "For homework, we are going to use the iris dataset again. You will calculate the petal and sepal ratios using the fancy pandas way explained above, and save it to the dataframe. Then you will generate **and save in disk** 3 plots, one per flower variety. These plots will have the ratios and the linear fit of the data points. \n",
    "\n",
    "I want you to write a **script** that is divided in (at least) 2 functions:\n",
    "- The function `linear_fit` will receive 2 pandas series or 2 numpy arrays and will perform a linear regression on their data. Then, it will return the slope and intercept of this fit. \n",
    "- The function `plot_data` will have as input a dataframe with the raw data that needs to be plotted. This function will call the function `linear_fit` and will receive the slope and intercept that `linear_fit` calculates. Finally, it will display a scatter plot of the raw data and a plot of the regression line. The x and y labels must be informative of whether it's the sepal or petal ratio. The title will be the flower variety used for each plot. This function will return nothing, but it will **save** the plots in a .png file with the name of the flower variety. \n",
    "\n",
    "You can choose whether you want to subset the data before or in `plot_data`. In other words, you can feed `plot_data` with the whole dataframe or with a subset of the dataframe that contains only a variety, but you'll have to do that 3 times in the second case. \n",
    "\n",
    "I recommend you to perform the ratio calculations before feeding it to `plot_data`, and feel free to organize the code for this in another function if you believe this will look cleaner. \n",
    "\n",
    "**GOOD LUCK!** \n",
    "\n",
    "And remember: Google is your friend. "
   ]
  }
 ],
 "metadata": {
  "kernelspec": {
   "display_name": "Python 3",
   "language": "python",
   "name": "python3"
  },
  "language_info": {
   "codemirror_mode": {
    "name": "ipython",
    "version": 3
   },
   "file_extension": ".py",
   "mimetype": "text/x-python",
   "name": "python",
   "nbconvert_exporter": "python",
   "pygments_lexer": "ipython3",
   "version": "3.6.10"
  }
 },
 "nbformat": 4,
 "nbformat_minor": 4
}
