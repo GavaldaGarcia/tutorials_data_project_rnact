{
 "cells": [
  {
   "cell_type": "markdown",
   "metadata": {},
   "source": [
    "# Biological sequence analysis"
   ]
  },
  {
   "cell_type": "markdown",
   "metadata": {},
   "source": [
    "Here we have all the known proteome from E.coli. It's all nicely kept in a fasta file \"ecoli_proteome.fasta\" in this directory. Let's open the file on the directory menu on your left and see how it looks"
   ]
  },
  {
   "cell_type": "markdown",
   "metadata": {},
   "source": [
    "This file has a collection of entries, which have two parts: \n",
    "- Header: Always starts with `>` and contains information about the sequence. For istance, the UniprotID, given name, genome location... any information relavant to identify the protein.\n",
    "- Sequence: The list of aminoacids... or nucleotides! Because the fasta format is also used to store dna or rna sequences!"
   ]
  },
  {
   "cell_type": "markdown",
   "metadata": {},
   "source": [
    "Let's read the first entry in the high-level python way:"
   ]
  },
  {
   "cell_type": "code",
   "execution_count": null,
   "metadata": {},
   "outputs": [],
   "source": [
    "f = open('ecoli_proteome.fasta', 'r')\n",
    "\n",
    "read = True\n",
    "\n",
    "# Not the easiest logic. But this is a way of reading the first sequence\n",
    "for line in f: \n",
    "    if line.startswith('>') and read:\n",
    "        print(line.rstrip())\n",
    "        read=False\n",
    "    elif line.startswith('>') and not read:\n",
    "        break\n",
    "    else:\n",
    "        print(line.rstrip())\n",
    "        \n",
    "f.close()"
   ]
  },
  {
   "cell_type": "markdown",
   "metadata": {},
   "source": [
    "What if we want the second sequence only? "
   ]
  },
  {
   "cell_type": "code",
   "execution_count": null,
   "metadata": {},
   "outputs": [],
   "source": [
    "f = open('ecoli_proteome.fasta', 'r')\n",
    "\n",
    "entry_count = 0\n",
    "target_sequence = 2\n",
    "\n",
    "\n",
    "for line in f: \n",
    "    if line.startswith('>'):\n",
    "        entry_count += 1\n",
    "        if entry_count == target_sequence:\n",
    "            print(line.rstrip())\n",
    "    elif entry_count == target_sequence:\n",
    "        print(line.rstrip())\n",
    "    \n",
    "        \n",
    "f.close()"
   ]
  },
  {
   "cell_type": "markdown",
   "metadata": {},
   "source": [
    "What if you want multiple sequences?"
   ]
  },
  {
   "cell_type": "code",
   "execution_count": null,
   "metadata": {},
   "outputs": [],
   "source": [
    "f = open('ecoli_proteome.fasta', 'r')\n",
    "\n",
    "entry_count = 0\n",
    "target_sequence = [2,5,10,42]\n",
    "\n",
    "\n",
    "for line in f: \n",
    "    if line.startswith('>'):\n",
    "        entry_count += 1\n",
    "        if entry_count in target_sequence:\n",
    "            print(line.rstrip())\n",
    "    elif entry_count in target_sequence:\n",
    "        print(line.rstrip())\n",
    "    \n",
    "        \n",
    "f.close()"
   ]
  },
  {
   "cell_type": "markdown",
   "metadata": {},
   "source": [
    "**It's not that it's impossible** to do things this way, but the inconvenience is major and I hate it with all my soul... Plus, my sequences are unindexed for downstream analysis. **There is a better way**. "
   ]
  },
  {
   "cell_type": "markdown",
   "metadata": {},
   "source": [
    "## Reading Fastas with Biopython"
   ]
  },
  {
   "cell_type": "markdown",
   "metadata": {},
   "source": [
    "Biopython is a package that allows to do many of the analysis that we need on biology and bioinformatics. It's not installed by default on anaconda, but if you run the cell bellow it should start with the installation. **Please don't run it if you have already installed it**. "
   ]
  },
  {
   "cell_type": "code",
   "execution_count": null,
   "metadata": {},
   "outputs": [],
   "source": [
    "!conda install -c conda-forge biopython -y"
   ]
  },
  {
   "cell_type": "markdown",
   "metadata": {},
   "source": [
    "Now, we can read fastas in a more efficient way, and it keeps it all indexed. This means that I can select the sequences that I want using their index, or iterate with a for loop over them, or do anything that you can do with indexed objects. This is the way to do it: "
   ]
  },
  {
   "cell_type": "code",
   "execution_count": null,
   "metadata": {},
   "outputs": [],
   "source": [
    "# First we import the necessary package from biopython\n",
    "from Bio import SeqIO"
   ]
  },
  {
   "cell_type": "code",
   "execution_count": null,
   "metadata": {},
   "outputs": [],
   "source": [
    "my_fasta_entries = []\n",
    "for record in SeqIO.parse('ecoli_proteome.fasta', 'fasta'):\n",
    "    my_fasta_entries.append(record)"
   ]
  },
  {
   "cell_type": "markdown",
   "metadata": {},
   "source": [
    "You can find more documentation about SeqIO at https://biopython.org/wiki/SeqIO"
   ]
  },
  {
   "cell_type": "markdown",
   "metadata": {},
   "source": [
    "Now let's look at the first entry:"
   ]
  },
  {
   "cell_type": "code",
   "execution_count": null,
   "metadata": {},
   "outputs": [],
   "source": [
    "print(my_fasta_entries[0])"
   ]
  },
  {
   "cell_type": "code",
   "execution_count": null,
   "metadata": {},
   "outputs": [],
   "source": [
    "print(type(my_fasta_entries[0]))"
   ]
  },
  {
   "cell_type": "markdown",
   "metadata": {},
   "source": [
    "So what is this? \n",
    "\n",
    "This is an **object** that contains the **properties** id, name, seq and other properties. How do we know this?"
   ]
  },
  {
   "cell_type": "code",
   "execution_count": null,
   "metadata": {},
   "outputs": [],
   "source": [
    "print(my_fasta_entries[0].__doc__)  # Print documentation of the object. This shows the name of the attributes and their description.\n",
    "                                    # This will only be available if the developer has taken their time to write the documentation."
   ]
  },
  {
   "cell_type": "code",
   "execution_count": null,
   "metadata": {},
   "outputs": [],
   "source": [
    "my_fasta_entries[0].__dict__    # We can see all the properties of the object here, but without the explanation of what they are.\n",
    "                                # This will always be available, regardless on whether someone took the time to write documentation."
   ]
  },
  {
   "cell_type": "markdown",
   "metadata": {},
   "source": [
    "So we can select the different properties of the object using a dot followed by the name of the property. Keep in mind that `my_fasta_entries` is a **list** of **objects**, so we first need to select an object from the list to be able to select its attribute. Or said in code:"
   ]
  },
  {
   "cell_type": "code",
   "execution_count": null,
   "metadata": {},
   "outputs": [],
   "source": [
    "print(type(my_fasta_entries))\n",
    "print(type(my_fasta_entries[0]))\n",
    "print(type(my_fasta_entries[42]))"
   ]
  },
  {
   "cell_type": "code",
   "execution_count": null,
   "metadata": {},
   "outputs": [],
   "source": [
    "# Works\n",
    "print(my_fasta_entries[0].id)\n",
    "print(my_fasta_entries[0].name)\n",
    "print(my_fasta_entries[0].description)\n",
    "print(my_fasta_entries[0].seq)"
   ]
  },
  {
   "cell_type": "code",
   "execution_count": null,
   "metadata": {},
   "outputs": [],
   "source": [
    "# Doesn't work\n",
    "print(my_fasta_entries.id)"
   ]
  },
  {
   "cell_type": "markdown",
   "metadata": {},
   "source": [
    "Just as if it was a chain of events, we can operate the output of each operation normally. \n",
    "\n",
    "Below, we do the following things:\n",
    "- We select the object in position 0 of our list of objects\n",
    "- Then we select only the id **property** of the object, which is a string\n",
    "- Following, we split the selected string using the character `|` as the delimiter, which results in a list. \n",
    "- Finally, we select the element in position 1 of that list.\n",
    "\n",
    "You can see it nicely chopped here. "
   ]
  },
  {
   "cell_type": "code",
   "execution_count": null,
   "metadata": {},
   "outputs": [],
   "source": [
    "print('Select object and print it')\n",
    "print(my_fasta_entries[0])\n",
    "\n",
    "print('\\nSelect object and print its id property')\n",
    "print(my_fasta_entries[0].id)\n",
    "\n",
    "print('\\nSelect object, then its id and split it when it finds the character |')\n",
    "print(my_fasta_entries[0].id.split('|'))\n",
    "\n",
    "print('\\nSelect object, then its id, split it when it finds the character | and select the element in position one of the splitted list')\n",
    "print(my_fasta_entries[0].id.split('|')[1])  # This is the UniprotID"
   ]
  },
  {
   "cell_type": "markdown",
   "metadata": {},
   "source": [
    "### Homework 1"
   ]
  },
  {
   "cell_type": "markdown",
   "metadata": {},
   "source": [
    "Create a dictionary that contains the UniprotID of all proteins as `keys` and their sequence as `values`. Then, print the dictionary entry with the key `'P10089'`."
   ]
  },
  {
   "cell_type": "markdown",
   "metadata": {},
   "source": [
    "## Sequence Alignment with Biopython"
   ]
  },
  {
   "cell_type": "markdown",
   "metadata": {},
   "source": [
    "FIRST OF ALL, you can find more formal explanation of the following part here: https://biopython.org/DIST/docs/api/Bio.pairwise2-module.html"
   ]
  },
  {
   "cell_type": "code",
   "execution_count": null,
   "metadata": {},
   "outputs": [],
   "source": [
    "from Bio import pairwise2"
   ]
  },
  {
   "cell_type": "code",
   "execution_count": null,
   "metadata": {},
   "outputs": [],
   "source": [
    "alignments = pairwise2.align.globalxx(\"ACCGT\", \"ACG\")  #this performs a global alignment"
   ]
  },
  {
   "cell_type": "code",
   "execution_count": null,
   "metadata": {},
   "outputs": [],
   "source": [
    "print(alignments) # Ugly, what is this?"
   ]
  },
  {
   "cell_type": "markdown",
   "metadata": {},
   "source": [
    "So we see 2 alignments here. This means that there are 2 alignments that share the maximum alignment score. **A higher score means that the two sequences are closer to each other than two sequences of the same length with a lower score**. There are ways of obtaining normalized scores, but we won't go into this in this tutorial. "
   ]
  },
  {
   "cell_type": "code",
   "execution_count": null,
   "metadata": {},
   "outputs": [],
   "source": [
    "print(alignments[0])\n",
    "print(alignments[1])"
   ]
  },
  {
   "cell_type": "markdown",
   "metadata": {},
   "source": [
    "Equally ugly, but now we have an alignment at a time. If we were looking only at the score we would select it from the alignment, but where is it? "
   ]
  },
  {
   "cell_type": "code",
   "execution_count": null,
   "metadata": {},
   "outputs": [],
   "source": [
    "print(pairwise2.align.globalxx.__doc__)"
   ]
  },
  {
   "cell_type": "markdown",
   "metadata": {},
   "source": [
    "So our according to our documentation our score is in position 2. Therefore the scores of the alignments are:"
   ]
  },
  {
   "cell_type": "code",
   "execution_count": null,
   "metadata": {},
   "outputs": [],
   "source": [
    "print(alignments[0][2])\n",
    "print(alignments[1][2])"
   ]
  },
  {
   "cell_type": "markdown",
   "metadata": {},
   "source": [
    "But wait, we still haven't fixed how ugly it looks. The score might be interesting for large scale analysis, but I only have 2 proteins that I want to know about, I want to see **how** they align... Don't worry fam:"
   ]
  },
  {
   "cell_type": "code",
   "execution_count": null,
   "metadata": {},
   "outputs": [],
   "source": [
    "print(pairwise2.format_alignment(*alignments[0]))  \n",
    "print(pairwise2.format_alignment(*alignments[1]))  \n",
    "\n",
    "# Don't worry about the asterisk, it means to take \"everything\" from the variable (alignments[0]). \n",
    "# It has all the information that alignments [0] contains, but not in a tuple form anymore. This is merely an implementation issue"
   ]
  },
  {
   "cell_type": "markdown",
   "metadata": {},
   "source": [
    "### Changing gap and missmatch penalties."
   ]
  },
  {
   "cell_type": "markdown",
   "metadata": {},
   "source": [
    "So far, our alignments have been done using an identity matrix. This means that it scored 1 if two positions matched and 0 if they mismatched. The gap penalty was also set to 0, which means that the alignment algorithm can insert gaps \"for free\". \n",
    "\n",
    "This doesn't make sense from a biological point of view, since a gap or a missmatch indicates a mutation, which should correspond to a negative score (because this means the sequences are less similar).\n",
    "\n",
    "Let's start assigning both gap and missmatch a penalty of 1 and to match a score of 2:"
   ]
  },
  {
   "cell_type": "markdown",
   "metadata": {},
   "source": [
    "Notice that there is an xx in pairwise2.align.globalxx? This has a meaning. The first letter defines the match score, and the second the gap score. \n",
    "\n",
    "The match parameters are:\n",
    "\n",
    "CODE  DESCRIPTION\n",
    "- x     No parameters. Identical characters have score of 1, otherwise 0.\n",
    "- m     A match score is the score of identical chars, otherwise mismatch\n",
    "      score.\n",
    "- d     A dictionary returns the score of any pair of characters.\n",
    "- c     A callback function returns scores.\n",
    "\n",
    "The gap penalty parameters are:\n",
    "\n",
    "CODE  DESCRIPTION\n",
    "- x     No gap penalties.\n",
    "- s     Same open and extend gap penalties for both sequences.\n",
    "- d     The sequences have different open and extend gap penalties.\n",
    "- c     A callback function returns the gap penalties."
   ]
  },
  {
   "cell_type": "markdown",
   "metadata": {},
   "source": [
    "Therefore if we we do same alignments with first the definition of match and missmatch it would look like this: "
   ]
  },
  {
   "cell_type": "code",
   "execution_count": null,
   "metadata": {},
   "outputs": [],
   "source": [
    "# Custom match and missmatch scores\n",
    "alignments = pairwise2.align.globalmx(\"ACCGT\", \"ACG\", 2,-1)  #this performs a global alignment\n",
    "print(pairwise2.format_alignment(*alignments[0]))\n",
    "print(pairwise2.format_alignment(*alignments[1]))"
   ]
  },
  {
   "cell_type": "code",
   "execution_count": null,
   "metadata": {},
   "outputs": [],
   "source": [
    "# Custom gap opening and gap extension penalties\n",
    "alignments = pairwise2.align.globalxs(\"ACCGT\", \"ACG\",-2,-1)  #this performs a global alignment\n",
    "print(pairwise2.format_alignment(*alignments[0]))\n",
    "print(pairwise2.format_alignment(*alignments[1]))"
   ]
  },
  {
   "cell_type": "code",
   "execution_count": null,
   "metadata": {},
   "outputs": [],
   "source": [
    "# Custom all\n",
    "alignments = pairwise2.align.globalms(\"ACCGT\", \"ACG\", 2,-1, -2, -1)  #this performs a global alignment\n",
    "print(pairwise2.format_alignment(*alignments[0]))\n",
    "print(pairwise2.format_alignment(*alignments[1]))"
   ]
  },
  {
   "cell_type": "markdown",
   "metadata": {},
   "source": [
    "### Proteins and substitution matrices "
   ]
  },
  {
   "cell_type": "markdown",
   "metadata": {},
   "source": [
    "Proteins are made of amino acids. Amino acids have physical properties that make some of them be closer to each other. That's why a substitution from a Leucine to an Isoleucine shouldn't be scored the same as a chenge from a Gylcine to an Proline. To fix this, the so called **Substitution Matrices** were calculated. \n",
    "\n",
    "Historically, the PAM matrices were used. They were calculated by hand and simulated evolution during a milion years at a time. The most famous was the **PAM250**, which simulated evolution during 250 years. \n",
    "\n",
    "Nowadays, new matrices have been calculated, based on multiple sequence alignment with certain identity threshold, the Blosum matrices. The most famous is **Blosum62**, which is derived from a multiple sequence alignment of sequences with at least 62% identity. \n",
    "\n",
    "These matrices illustrate how deleterious a substitution can be depending on which amino acid was substituted and for which one. **Keep in mind that these matrices do not include any kind of gap penalties**. \n",
    "\n",
    "Here's how Blosum62 looks like:"
   ]
  },
  {
   "cell_type": "markdown",
   "metadata": {},
   "source": [
    "<!-- ![title](BLOSUM62.png) -->\n",
    "\n",
    "<figure>\n",
    "   \n",
    "   <img src=\"BLOSUM62.png\">\n",
    "   <figcaption> Blosum62 substitution matrix. Source: Wikipedia.\n",
    "   </figcaption>\n",
    "</figure>"
   ]
  },
  {
   "cell_type": "markdown",
   "metadata": {},
   "source": [
    "**Let's align two proteins with Blosum62**"
   ]
  },
  {
   "cell_type": "code",
   "execution_count": null,
   "metadata": {},
   "outputs": [],
   "source": [
    "from Bio.SubsMat import MatrixInfo as matlist\n",
    "matrix = matlist.blosum62  # Import blossum62\n",
    "print(type(matrix))  # This means that we need to change the first 'x' for a 'd' in the globalxx() function"
   ]
  },
  {
   "cell_type": "code",
   "execution_count": null,
   "metadata": {},
   "outputs": [],
   "source": [
    "seq_1 = my_fasta_entries[0].seq\n",
    "seq_2 = my_fasta_entries[1].seq"
   ]
  },
  {
   "cell_type": "code",
   "execution_count": null,
   "metadata": {},
   "outputs": [],
   "source": [
    "alignments = pairwise2.align.globalds(seq_1, seq_2, matrix, -2, -1)  #this performs a global alignment\n",
    "print(pairwise2.format_alignment(*alignments[0]))  # and it doesn't look pretty for long sequences"
   ]
  },
  {
   "cell_type": "code",
   "execution_count": null,
   "metadata": {},
   "outputs": [],
   "source": [
    "print('Alignment score is {0}'.format(alignments[0][2]))"
   ]
  },
  {
   "cell_type": "markdown",
   "metadata": {},
   "source": [
    "### Homework 2"
   ]
  },
  {
   "cell_type": "markdown",
   "metadata": {},
   "source": [
    "Perform a global alignment of the **A)** first sequence in our E.coli fasta against **B)** every protein in the fasta file (including itself). Use the matrix Blosum62 and gap penalties of -2 and -0.8 for opening and extension respectively. \n",
    "\n",
    "Store the scores as values of a dictionary that takes the UniprotID of the second protein (**B**) as keys. This is the structure of the dictionary, but with 500+ entries:\n",
    "\n",
    "my_beloved_dictionary = {'P04743':-42, 'P08663': 69}"
   ]
  },
  {
   "cell_type": "markdown",
   "metadata": {},
   "source": [
    "# GOOD LUCK!"
   ]
  }
 ],
 "metadata": {
  "kernelspec": {
   "display_name": "Python 3",
   "language": "python",
   "name": "python3"
  },
  "language_info": {
   "codemirror_mode": {
    "name": "ipython",
    "version": 3
   },
   "file_extension": ".py",
   "mimetype": "text/x-python",
   "name": "python",
   "nbconvert_exporter": "python",
   "pygments_lexer": "ipython3",
   "version": "3.6.10"
  }
 },
 "nbformat": 4,
 "nbformat_minor": 4
}
