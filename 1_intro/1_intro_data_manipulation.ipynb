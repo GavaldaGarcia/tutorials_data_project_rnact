{
 "cells": [
  {
   "cell_type": "markdown",
   "metadata": {},
   "source": [
    "# Data collection project tutorials: Intro to python, jupyter notebook, pandas and data manipulation"
   ]
  },
  {
   "cell_type": "markdown",
   "metadata": {},
   "source": [
    "This is a Jupyter notebook. We had a small mention to them in the FAIR data workshop, but now we're going to use them as a tool to learn the very fundamentals of python and to grasp the unmeasurable importance of programing when we work with data. "
   ]
  },
  {
   "cell_type": "markdown",
   "metadata": {},
   "source": [
    "## Sweet introduction to chaos"
   ]
  },
  {
   "cell_type": "markdown",
   "metadata": {},
   "source": [
    "We will begin where everybody has begun with programming, with the *\"Hello world\"* exercise. We simply want python to **print** a piece of text, also known as **string**."
   ]
  },
  {
   "cell_type": "code",
   "execution_count": 31,
   "metadata": {
    "pycharm": {
     "is_executing": false
    }
   },
   "outputs": [
    {
     "name": "stdout",
     "text": [
      "Hello world\n"
     ],
     "output_type": "stream"
    }
   ],
   "source": [
    "print(\"Hello world\")"
   ]
  },
  {
   "cell_type": "markdown",
   "metadata": {},
   "source": [
    "Notice the qutoation marks (\"\\_\\_\\_\\_\") around the text? That's our way of telling python that this is text. Anything that we put between quotation marks becomes a piece of text and can be printed. Example:"
   ]
  },
  {
   "cell_type": "code",
   "execution_count": 32,
   "metadata": {
    "pycharm": {
     "is_executing": false
    }
   },
   "outputs": [
    {
     "name": "stdout",
     "text": [
      "Quarantine sucks\n",
      "wololo\n",
      "Is the lab open?\n"
     ],
     "output_type": "stream"
    }
   ],
   "source": [
    "print(\"Quarantine sucks\")\n",
    "print(\"wololo\")\n",
    "print(\"Is the lab open?\")"
   ]
  },
  {
   "cell_type": "markdown",
   "metadata": {},
   "source": [
    "What happens if we don't use them?"
   ]
  },
  {
   "cell_type": "code",
   "execution_count": 33,
   "metadata": {
    "pycharm": {
     "is_executing": false
    }
   },
   "outputs": [
    {
     "traceback": [
      "\u001b[0;31m---------------------------------------------------------------------------\u001b[0m",
      "\u001b[0;31mNameError\u001b[0m                                 Traceback (most recent call last)",
      "\u001b[0;32m<ipython-input-33-2e3611eacead>\u001b[0m in \u001b[0;36m<module>\u001b[0;34m\u001b[0m\n\u001b[0;32m----> 1\u001b[0;31m \u001b[0mprint\u001b[0m\u001b[0;34m(\u001b[0m\u001b[0mwololo\u001b[0m\u001b[0;34m)\u001b[0m\u001b[0;34m\u001b[0m\u001b[0;34m\u001b[0m\u001b[0m\n\u001b[0m\u001b[1;32m      2\u001b[0m \u001b[0;34m\u001b[0m\u001b[0m\n",
      "\u001b[0;31mNameError\u001b[0m: name 'wololo' is not defined"
     ],
     "ename": "NameError",
     "evalue": "name 'wololo' is not defined",
     "output_type": "error"
    }
   ],
   "source": [
    "print(wololo)"
   ]
  },
  {
   "cell_type": "markdown",
   "metadata": {},
   "source": [
    "This error happens because python believes that wololo is a **variable**. A variable is an object that contains information, which can be for instance a string:"
   ]
  },
  {
   "cell_type": "code",
   "execution_count": 34,
   "metadata": {
    "pycharm": {
     "is_executing": false
    }
   },
   "outputs": [
    {
     "name": "stdout",
     "text": [
      "Python is fun\n"
     ],
     "output_type": "stream"
    }
   ],
   "source": [
    "my_first_variable = \"Python is fun\"\n",
    "print(my_first_variable)"
   ]
  },
  {
   "cell_type": "markdown",
   "metadata": {},
   "source": [
    "But python can do much more than printing text :)"
   ]
  },
  {
   "cell_type": "markdown",
   "metadata": {},
   "source": [
    "## Data types and simple manipulations"
   ]
  },
  {
   "cell_type": "markdown",
   "metadata": {},
   "source": [
    "The three most commont types of data in python are: strings, floats and integers."
   ]
  },
  {
   "cell_type": "code",
   "execution_count": 35,
   "metadata": {
    "pycharm": {
     "is_executing": false
    }
   },
   "outputs": [],
   "source": [
    "string_var = 'bacon'\n",
    "float_var = 3.14\n",
    "int_var = 42\n",
    "potato = '5443'"
   ]
  },
  {
   "cell_type": "markdown",
   "metadata": {},
   "source": [
    "And we can ask python which kind of data each variable contains with the command **type()**."
   ]
  },
  {
   "cell_type": "code",
   "execution_count": 36,
   "metadata": {
    "pycharm": {
     "is_executing": false
    }
   },
   "outputs": [
    {
     "name": "stdout",
     "text": [
      "<class 'str'>\n",
      "<class 'float'>\n",
      "<class 'int'>\n",
      "<class 'str'>\n"
     ],
     "output_type": "stream"
    }
   ],
   "source": [
    "print(type(string_var))\n",
    "print(type(float_var))\n",
    "print(type(int_var))\n",
    "print(type(potato))"
   ]
  },
  {
   "cell_type": "code",
   "execution_count": 37,
   "metadata": {
    "pycharm": {
     "is_executing": false
    }
   },
   "outputs": [
    {
     "name": "stdout",
     "text": [
      "5443.0\n"
     ],
     "output_type": "stream"
    }
   ],
   "source": [
    "print(float(potato))"
   ]
  },
  {
   "cell_type": "markdown",
   "metadata": {},
   "source": [
    "Some operations with these variables are infective, some others are incompatible, and some others are possible after a transformation:"
   ]
  },
  {
   "cell_type": "code",
   "execution_count": 38,
   "metadata": {
    "pycharm": {
     "is_executing": false
    }
   },
   "outputs": [
    {
     "name": "stdout",
     "text": [
      "6.28\n",
      "4.34\n",
      "baconbacon\n",
      "bacon is delicious\n",
      "bacon costs 3.14 euros in my local supermarket\n",
      "84\n",
      "45.14\n",
      "4242\n"
     ],
     "output_type": "stream"
    },
    {
     "traceback": [
      "\u001b[0;31m---------------------------------------------------------------------------\u001b[0m",
      "\u001b[0;31mTypeError\u001b[0m                                 Traceback (most recent call last)",
      "\u001b[0;32m<ipython-input-38-f0c93db21f44>\u001b[0m in \u001b[0;36m<module>\u001b[0;34m\u001b[0m\n\u001b[1;32m      7\u001b[0m \u001b[0mprint\u001b[0m\u001b[0;34m(\u001b[0m\u001b[0mint_var\u001b[0m \u001b[0;34m+\u001b[0m \u001b[0mfloat_var\u001b[0m\u001b[0;34m)\u001b[0m  \u001b[0;31m# Infective!\u001b[0m\u001b[0;34m\u001b[0m\u001b[0;34m\u001b[0m\u001b[0m\n\u001b[1;32m      8\u001b[0m \u001b[0mprint\u001b[0m\u001b[0;34m(\u001b[0m\u001b[0mstr\u001b[0m\u001b[0;34m(\u001b[0m\u001b[0mint_var\u001b[0m\u001b[0;34m)\u001b[0m\u001b[0;34m+\u001b[0m\u001b[0mstr\u001b[0m\u001b[0;34m(\u001b[0m\u001b[0mint_var\u001b[0m\u001b[0;34m)\u001b[0m\u001b[0;34m)\u001b[0m\u001b[0;34m\u001b[0m\u001b[0;34m\u001b[0m\u001b[0m\n\u001b[0;32m----> 9\u001b[0;31m \u001b[0mprint\u001b[0m\u001b[0;34m(\u001b[0m\u001b[0mint_var\u001b[0m \u001b[0;34m+\u001b[0m \u001b[0mpotato\u001b[0m\u001b[0;34m)\u001b[0m\u001b[0;34m\u001b[0m\u001b[0;34m\u001b[0m\u001b[0m\n\u001b[0m\u001b[1;32m     10\u001b[0m \u001b[0;34m\u001b[0m\u001b[0m\n",
      "\u001b[0;31mTypeError\u001b[0m: unsupported operand type(s) for +: 'int' and 'str'"
     ],
     "ename": "TypeError",
     "evalue": "unsupported operand type(s) for +: 'int' and 'str'",
     "output_type": "error"
    }
   ],
   "source": [
    "print(float_var+float_var)\n",
    "print(float_var + 1.2)\n",
    "print(string_var + string_var)\n",
    "print(string_var + ' is delicious')\n",
    "print(string_var + ' costs ' + str(float_var) + ' euros in my local supermarket')  # Float transformed into string\n",
    "print(int_var + int_var)\n",
    "print(int_var + float_var)  # Infective!\n",
    "print(str(int_var)+str(int_var))\n",
    "print(int_var + potato)"
   ]
  },
  {
   "cell_type": "markdown",
   "metadata": {},
   "source": [
    "We would need two sessions only to show every fancy way in which you can operate with variables, but for the sake of time, we'll go forward to data structures now."
   ]
  },
  {
   "cell_type": "markdown",
   "metadata": {},
   "source": [
    "## Data structures"
   ]
  },
  {
   "cell_type": "markdown",
   "metadata": {},
   "source": [
    "### Lists"
   ]
  },
  {
   "cell_type": "markdown",
   "metadata": {},
   "source": [
    "The most basic data structure is a **list**. A list is an array of data elements stored in the same object. Lists are definded with square brakets **\\[ \\]** in python's syntax. These elements can be of any kind, even variables and other lists:"
   ]
  },
  {
   "cell_type": "code",
   "execution_count": 39,
   "metadata": {
    "pycharm": {
     "is_executing": false
    }
   },
   "outputs": [
    {
     "name": "stdout",
     "text": [
      "['ham', 'eggs', 42, 3.14, False, [1, 2, 3, 4], 3.14]\n"
     ],
     "output_type": "stream"
    }
   ],
   "source": [
    "my_list = ['ham', 'eggs', 42, float_var, False, [1,2,3,4], 3.14]\n",
    "print(my_list)"
   ]
  },
  {
   "cell_type": "markdown",
   "metadata": {},
   "source": [
    "Lists can be indexed, which means that we can choose which position to get the information from (keep in mind, python counts starting from 0):"
   ]
  },
  {
   "cell_type": "code",
   "execution_count": 40,
   "metadata": {
    "pycharm": {
     "is_executing": false
    }
   },
   "outputs": [
    {
     "name": "stdout",
     "text": [
      "ham\n",
      "eggs\n",
      "3.14\n",
      "[1, 2, 3, 4]\n",
      "3\n"
     ],
     "output_type": "stream"
    }
   ],
   "source": [
    "print(my_list[0]) \n",
    "print(my_list[1])\n",
    "print(my_list[-1])\n",
    "print(my_list[-2])\n",
    "print(my_list[-2][2])"
   ]
  },
  {
   "cell_type": "markdown",
   "metadata": {},
   "source": [
    "### Dictionaries"
   ]
  },
  {
   "cell_type": "markdown",
   "metadata": {},
   "source": [
    "A very pythonic data structure is the **dictionary**, which keeps unindexed (unsorted) values, which can be found with their key. Dictionaries are defined with curly brakets **{ }** in python's syntax. "
   ]
  },
  {
   "cell_type": "code",
   "execution_count": 41,
   "metadata": {
    "pycharm": {
     "is_executing": false
    }
   },
   "outputs": [
    {
     "name": "stdout",
     "text": [
      "{'brand': 'Ford', 'model': 'Mustang', 'year': 1964}\n"
     ],
     "output_type": "stream"
    }
   ],
   "source": [
    "my_car = {\"brand\": \"Ford\",\n",
    "  \"model\": \"Mustang\",\n",
    "  \"year\": 1964}\n",
    "print(my_car)"
   ]
  },
  {
   "cell_type": "markdown",
   "metadata": {},
   "source": [
    "So if we want to know the model of my car we'll do the following:"
   ]
  },
  {
   "cell_type": "code",
   "execution_count": 42,
   "metadata": {
    "pycharm": {
     "is_executing": false
    }
   },
   "outputs": [
    {
     "name": "stdout",
     "text": [
      "Mustang\n"
     ],
     "output_type": "stream"
    }
   ],
   "source": [
    "print(my_car['model'])"
   ]
  },
  {
   "cell_type": "markdown",
   "metadata": {},
   "source": [
    "But I forgot to mention that I upgraded it in 2010!!! Let me just put that in..."
   ]
  },
  {
   "cell_type": "code",
   "execution_count": 43,
   "metadata": {
    "pycharm": {
     "is_executing": false
    }
   },
   "outputs": [
    {
     "name": "stdout",
     "text": [
      "{'brand': 'Ford', 'model': 'Mustang', 'year': 1964, 'upgraded': [2010, 2017, 2020]}\n"
     ],
     "output_type": "stream"
    }
   ],
   "source": [
    "my_car['upgraded'] = [2010, 2017, 2020]\n",
    "print(my_car)"
   ]
  },
  {
   "cell_type": "code",
   "execution_count": 44,
   "metadata": {
    "pycharm": {
     "is_executing": false
    }
   },
   "outputs": [
    {
     "data": {
      "text/plain": "2020"
     },
     "metadata": {},
     "output_type": "execute_result",
     "execution_count": 44
    }
   ],
   "source": [
    "my_car['upgraded'][-1]"
   ]
  },
  {
   "cell_type": "markdown",
   "metadata": {},
   "source": [
    "Perfect"
   ]
  },
  {
   "cell_type": "markdown",
   "metadata": {},
   "source": [
    "So why all this? Explanation? Because the syntax of the **dataframes** that we are interested in behave almost identically!"
   ]
  },
  {
   "cell_type": "markdown",
   "metadata": {},
   "source": [
    "## Pandas dataframes"
   ]
  },
  {
   "cell_type": "markdown",
   "metadata": {},
   "source": [
    "### Introduction to dataframes "
   ]
  },
  {
   "cell_type": "code",
   "execution_count": 54,
   "metadata": {
    "pycharm": {
     "is_executing": false
    }
   },
   "outputs": [
    {
     "data": {
      "text/plain": "     sepal_length  sepal_width  petal_length  petal_width    species\n0             5.1          3.5           1.4          0.2     setosa\n1             4.9          3.0           1.4          0.2     setosa\n2             4.7          3.2           1.3          0.2     setosa\n3             4.6          3.1           1.5          0.2     setosa\n4             5.0          3.6           1.4          0.2     setosa\n..            ...          ...           ...          ...        ...\n145           6.7          3.0           5.2          2.3  virginica\n146           6.3          2.5           5.0          1.9  virginica\n147           6.5          3.0           5.2          2.0  virginica\n148           6.2          3.4           5.4          2.3  virginica\n149           5.9          3.0           5.1          1.8  virginica\n\n[150 rows x 5 columns]",
      "text/html": "<div>\n<style scoped>\n    .dataframe tbody tr th:only-of-type {\n        vertical-align: middle;\n    }\n\n    .dataframe tbody tr th {\n        vertical-align: top;\n    }\n\n    .dataframe thead th {\n        text-align: right;\n    }\n</style>\n<table border=\"1\" class=\"dataframe\">\n  <thead>\n    <tr style=\"text-align: right;\">\n      <th></th>\n      <th>sepal_length</th>\n      <th>sepal_width</th>\n      <th>petal_length</th>\n      <th>petal_width</th>\n      <th>species</th>\n    </tr>\n  </thead>\n  <tbody>\n    <tr>\n      <th>0</th>\n      <td>5.1</td>\n      <td>3.5</td>\n      <td>1.4</td>\n      <td>0.2</td>\n      <td>setosa</td>\n    </tr>\n    <tr>\n      <th>1</th>\n      <td>4.9</td>\n      <td>3.0</td>\n      <td>1.4</td>\n      <td>0.2</td>\n      <td>setosa</td>\n    </tr>\n    <tr>\n      <th>2</th>\n      <td>4.7</td>\n      <td>3.2</td>\n      <td>1.3</td>\n      <td>0.2</td>\n      <td>setosa</td>\n    </tr>\n    <tr>\n      <th>3</th>\n      <td>4.6</td>\n      <td>3.1</td>\n      <td>1.5</td>\n      <td>0.2</td>\n      <td>setosa</td>\n    </tr>\n    <tr>\n      <th>4</th>\n      <td>5.0</td>\n      <td>3.6</td>\n      <td>1.4</td>\n      <td>0.2</td>\n      <td>setosa</td>\n    </tr>\n    <tr>\n      <th>...</th>\n      <td>...</td>\n      <td>...</td>\n      <td>...</td>\n      <td>...</td>\n      <td>...</td>\n    </tr>\n    <tr>\n      <th>145</th>\n      <td>6.7</td>\n      <td>3.0</td>\n      <td>5.2</td>\n      <td>2.3</td>\n      <td>virginica</td>\n    </tr>\n    <tr>\n      <th>146</th>\n      <td>6.3</td>\n      <td>2.5</td>\n      <td>5.0</td>\n      <td>1.9</td>\n      <td>virginica</td>\n    </tr>\n    <tr>\n      <th>147</th>\n      <td>6.5</td>\n      <td>3.0</td>\n      <td>5.2</td>\n      <td>2.0</td>\n      <td>virginica</td>\n    </tr>\n    <tr>\n      <th>148</th>\n      <td>6.2</td>\n      <td>3.4</td>\n      <td>5.4</td>\n      <td>2.3</td>\n      <td>virginica</td>\n    </tr>\n    <tr>\n      <th>149</th>\n      <td>5.9</td>\n      <td>3.0</td>\n      <td>5.1</td>\n      <td>1.8</td>\n      <td>virginica</td>\n    </tr>\n  </tbody>\n</table>\n<p>150 rows × 5 columns</p>\n</div>"
     },
     "metadata": {},
     "output_type": "execute_result",
     "execution_count": 54
    }
   ],
   "source": [
    "import pandas as pd\n",
    "import io\n",
    "\n",
    "download = False\n",
    "\n",
    "if download:\n",
    "    url=\"https://gist.githubusercontent.com/curran/a08a1080b88344b0c8a7/raw/639388c2cbc2120a14dcf466e85730eb8be498bb/iris.csv\"\n",
    "    s=requests.get(url).content\n",
    "    df=pd.read_csv(io.StringIO(s.decode('utf-8')))\n",
    "else:\n",
    "    df = pd.read_csv('./iris.csv')\n",
    "\n",
    "df"
   ]
  },
  {
   "cell_type": "markdown",
   "metadata": {},
   "source": [
    "Subset only species"
   ]
  },
  {
   "cell_type": "code",
   "execution_count": 55,
   "metadata": {
    "pycharm": {
     "is_executing": false
    }
   },
   "outputs": [
    {
     "data": {
      "text/plain": "0         setosa\n1         setosa\n2         setosa\n3         setosa\n4         setosa\n         ...    \n145    virginica\n146    virginica\n147    virginica\n148    virginica\n149    virginica\nName: species, Length: 150, dtype: object"
     },
     "metadata": {},
     "output_type": "execute_result",
     "execution_count": 55
    }
   ],
   "source": [
    "df['species']"
   ]
  },
  {
   "cell_type": "markdown",
   "metadata": {},
   "source": [
    "How many unique species do we have?"
   ]
  },
  {
   "cell_type": "code",
   "execution_count": 56,
   "metadata": {
    "pycharm": {
     "is_executing": false
    }
   },
   "outputs": [
    {
     "name": "stdout",
     "text": [
      "['setosa' 'versicolor' 'virginica']\n"
     ],
     "output_type": "stream"
    }
   ],
   "source": [
    "unique_species = df['species'].unique()\n",
    "print(unique_species)"
   ]
  },
  {
   "cell_type": "markdown",
   "metadata": {},
   "source": [
    "Since we are here, let's do a mini intermezzo to explain how to iterate through an indexed object, like our prevoius output:"
   ]
  },
  {
   "cell_type": "code",
   "execution_count": 57,
   "metadata": {
    "pycharm": {
     "is_executing": false
    }
   },
   "outputs": [
    {
     "name": "stdout",
     "text": [
      "setosa are beautiful flowers\n",
      "0 s s\n",
      "1 e e\n",
      "2 t t\n",
      "3 o o\n",
      "4 s s\n",
      "5 a a\n",
      "versicolor are beautiful flowers\n",
      "0 v v\n",
      "1 e e\n",
      "2 r r\n",
      "3 s s\n",
      "4 i i\n",
      "5 c c\n",
      "6 o o\n",
      "7 l l\n",
      "8 o o\n",
      "9 r r\n",
      "virginica are beautiful flowers\n",
      "0 v v\n",
      "1 i i\n",
      "2 r r\n",
      "3 g g\n",
      "4 i i\n",
      "5 n n\n",
      "6 i i\n",
      "7 c c\n",
      "8 a a\n"
     ],
     "output_type": "stream"
    }
   ],
   "source": [
    "for word in unique_species:  # Takes each element (species) in an indexed object (unique_species)\n",
    "    print(word + ' are beautiful flowers')  # And does something with this element. In this case tell the whole world how beautiful they are\n",
    "    for a, letter in enumerate(word):\n",
    "        print(a, word[a], letter)\n"
   ]
  },
  {
   "cell_type": "markdown",
   "metadata": {},
   "source": [
    "### Basic data selection"
   ]
  },
  {
   "cell_type": "markdown",
   "metadata": {},
   "source": [
    "Let's say that for some reason, I don't like wide sepals, so I want to know which of these my entries have a sepal no bigger than 3 cm"
   ]
  },
  {
   "cell_type": "code",
   "execution_count": 58,
   "metadata": {
    "pycharm": {
     "is_executing": false
    }
   },
   "outputs": [
    {
     "data": {
      "text/plain": "     sepal_length  sepal_width  petal_length  petal_width    species\n1             4.9          3.0           1.4          0.2     setosa\n8             4.4          2.9           1.4          0.2     setosa\n12            4.8          3.0           1.4          0.1     setosa\n13            4.3          3.0           1.1          0.1     setosa\n25            5.0          3.0           1.6          0.2     setosa\n..            ...          ...           ...          ...        ...\n142           5.8          2.7           5.1          1.9  virginica\n145           6.7          3.0           5.2          2.3  virginica\n146           6.3          2.5           5.0          1.9  virginica\n147           6.5          3.0           5.2          2.0  virginica\n149           5.9          3.0           5.1          1.8  virginica\n\n[83 rows x 5 columns]",
      "text/html": "<div>\n<style scoped>\n    .dataframe tbody tr th:only-of-type {\n        vertical-align: middle;\n    }\n\n    .dataframe tbody tr th {\n        vertical-align: top;\n    }\n\n    .dataframe thead th {\n        text-align: right;\n    }\n</style>\n<table border=\"1\" class=\"dataframe\">\n  <thead>\n    <tr style=\"text-align: right;\">\n      <th></th>\n      <th>sepal_length</th>\n      <th>sepal_width</th>\n      <th>petal_length</th>\n      <th>petal_width</th>\n      <th>species</th>\n    </tr>\n  </thead>\n  <tbody>\n    <tr>\n      <th>1</th>\n      <td>4.9</td>\n      <td>3.0</td>\n      <td>1.4</td>\n      <td>0.2</td>\n      <td>setosa</td>\n    </tr>\n    <tr>\n      <th>8</th>\n      <td>4.4</td>\n      <td>2.9</td>\n      <td>1.4</td>\n      <td>0.2</td>\n      <td>setosa</td>\n    </tr>\n    <tr>\n      <th>12</th>\n      <td>4.8</td>\n      <td>3.0</td>\n      <td>1.4</td>\n      <td>0.1</td>\n      <td>setosa</td>\n    </tr>\n    <tr>\n      <th>13</th>\n      <td>4.3</td>\n      <td>3.0</td>\n      <td>1.1</td>\n      <td>0.1</td>\n      <td>setosa</td>\n    </tr>\n    <tr>\n      <th>25</th>\n      <td>5.0</td>\n      <td>3.0</td>\n      <td>1.6</td>\n      <td>0.2</td>\n      <td>setosa</td>\n    </tr>\n    <tr>\n      <th>...</th>\n      <td>...</td>\n      <td>...</td>\n      <td>...</td>\n      <td>...</td>\n      <td>...</td>\n    </tr>\n    <tr>\n      <th>142</th>\n      <td>5.8</td>\n      <td>2.7</td>\n      <td>5.1</td>\n      <td>1.9</td>\n      <td>virginica</td>\n    </tr>\n    <tr>\n      <th>145</th>\n      <td>6.7</td>\n      <td>3.0</td>\n      <td>5.2</td>\n      <td>2.3</td>\n      <td>virginica</td>\n    </tr>\n    <tr>\n      <th>146</th>\n      <td>6.3</td>\n      <td>2.5</td>\n      <td>5.0</td>\n      <td>1.9</td>\n      <td>virginica</td>\n    </tr>\n    <tr>\n      <th>147</th>\n      <td>6.5</td>\n      <td>3.0</td>\n      <td>5.2</td>\n      <td>2.0</td>\n      <td>virginica</td>\n    </tr>\n    <tr>\n      <th>149</th>\n      <td>5.9</td>\n      <td>3.0</td>\n      <td>5.1</td>\n      <td>1.8</td>\n      <td>virginica</td>\n    </tr>\n  </tbody>\n</table>\n<p>83 rows × 5 columns</p>\n</div>"
     },
     "metadata": {},
     "output_type": "execute_result",
     "execution_count": 58
    }
   ],
   "source": [
    "small_sepal_df = df[df['sepal_width']<= 3.0]\n",
    "small_sepal_df"
   ]
  },
  {
   "cell_type": "markdown",
   "metadata": {},
   "source": [
    "Or maybe what I don't like is the ratio of \"chubby sepals\", so I want to select those entries with a sepal_length/sepal_width of at least 2:"
   ]
  },
  {
   "cell_type": "code",
   "execution_count": 59,
   "metadata": {
    "pycharm": {
     "is_executing": false
    }
   },
   "outputs": [
    {
     "data": {
      "text/plain": "     sepal_length  sepal_width  petal_length  petal_width     species\n50            7.0          3.2           4.7          1.4  versicolor\n51            6.4          3.2           4.5          1.5  versicolor\n52            6.9          3.1           4.9          1.5  versicolor\n53            5.5          2.3           4.0          1.3  versicolor\n54            6.5          2.8           4.6          1.5  versicolor\n..            ...          ...           ...          ...         ...\n143           6.8          3.2           5.9          2.3   virginica\n144           6.7          3.3           5.7          2.5   virginica\n145           6.7          3.0           5.2          2.3   virginica\n146           6.3          2.5           5.0          1.9   virginica\n147           6.5          3.0           5.2          2.0   virginica\n\n[84 rows x 5 columns]",
      "text/html": "<div>\n<style scoped>\n    .dataframe tbody tr th:only-of-type {\n        vertical-align: middle;\n    }\n\n    .dataframe tbody tr th {\n        vertical-align: top;\n    }\n\n    .dataframe thead th {\n        text-align: right;\n    }\n</style>\n<table border=\"1\" class=\"dataframe\">\n  <thead>\n    <tr style=\"text-align: right;\">\n      <th></th>\n      <th>sepal_length</th>\n      <th>sepal_width</th>\n      <th>petal_length</th>\n      <th>petal_width</th>\n      <th>species</th>\n    </tr>\n  </thead>\n  <tbody>\n    <tr>\n      <th>50</th>\n      <td>7.0</td>\n      <td>3.2</td>\n      <td>4.7</td>\n      <td>1.4</td>\n      <td>versicolor</td>\n    </tr>\n    <tr>\n      <th>51</th>\n      <td>6.4</td>\n      <td>3.2</td>\n      <td>4.5</td>\n      <td>1.5</td>\n      <td>versicolor</td>\n    </tr>\n    <tr>\n      <th>52</th>\n      <td>6.9</td>\n      <td>3.1</td>\n      <td>4.9</td>\n      <td>1.5</td>\n      <td>versicolor</td>\n    </tr>\n    <tr>\n      <th>53</th>\n      <td>5.5</td>\n      <td>2.3</td>\n      <td>4.0</td>\n      <td>1.3</td>\n      <td>versicolor</td>\n    </tr>\n    <tr>\n      <th>54</th>\n      <td>6.5</td>\n      <td>2.8</td>\n      <td>4.6</td>\n      <td>1.5</td>\n      <td>versicolor</td>\n    </tr>\n    <tr>\n      <th>...</th>\n      <td>...</td>\n      <td>...</td>\n      <td>...</td>\n      <td>...</td>\n      <td>...</td>\n    </tr>\n    <tr>\n      <th>143</th>\n      <td>6.8</td>\n      <td>3.2</td>\n      <td>5.9</td>\n      <td>2.3</td>\n      <td>virginica</td>\n    </tr>\n    <tr>\n      <th>144</th>\n      <td>6.7</td>\n      <td>3.3</td>\n      <td>5.7</td>\n      <td>2.5</td>\n      <td>virginica</td>\n    </tr>\n    <tr>\n      <th>145</th>\n      <td>6.7</td>\n      <td>3.0</td>\n      <td>5.2</td>\n      <td>2.3</td>\n      <td>virginica</td>\n    </tr>\n    <tr>\n      <th>146</th>\n      <td>6.3</td>\n      <td>2.5</td>\n      <td>5.0</td>\n      <td>1.9</td>\n      <td>virginica</td>\n    </tr>\n    <tr>\n      <th>147</th>\n      <td>6.5</td>\n      <td>3.0</td>\n      <td>5.2</td>\n      <td>2.0</td>\n      <td>virginica</td>\n    </tr>\n  </tbody>\n</table>\n<p>84 rows × 5 columns</p>\n</div>"
     },
     "metadata": {},
     "output_type": "execute_result",
     "execution_count": 59
    }
   ],
   "source": [
    "slim_df = df[df['sepal_length']/df['sepal_width']>=2.0]\n",
    "slim_df"
   ]
  },
  {
   "cell_type": "markdown",
   "metadata": {},
   "source": [
    "### Make and plot our own dataframes"
   ]
  },
  {
   "cell_type": "markdown",
   "metadata": {},
   "source": [
    "What's the percentage of species in each of these dataframes?"
   ]
  },
  {
   "cell_type": "code",
   "execution_count": 60,
   "metadata": {
    "pycharm": {
     "is_executing": false
    }
   },
   "outputs": [],
   "source": [
    "df_species_perc = df['species'].value_counts(normalize=True) * 100\n",
    "small_sepal_df_species_perc = small_sepal_df['species'].value_counts(normalize=True) * 100\n",
    "slim_df_species_perc = slim_df['species'].value_counts(normalize=True) * 100"
   ]
  },
  {
   "cell_type": "code",
   "execution_count": 61,
   "metadata": {
    "pycharm": {
     "is_executing": false
    }
   },
   "outputs": [
    {
     "data": {
      "text/plain": "             complete       thin       slim\nsetosa      33.333333   9.638554        NaN\nversicolor  33.333333  50.602410  46.428571\nvirginica   33.333333  39.759036  53.571429",
      "text/html": "<div>\n<style scoped>\n    .dataframe tbody tr th:only-of-type {\n        vertical-align: middle;\n    }\n\n    .dataframe tbody tr th {\n        vertical-align: top;\n    }\n\n    .dataframe thead th {\n        text-align: right;\n    }\n</style>\n<table border=\"1\" class=\"dataframe\">\n  <thead>\n    <tr style=\"text-align: right;\">\n      <th></th>\n      <th>complete</th>\n      <th>thin</th>\n      <th>slim</th>\n    </tr>\n  </thead>\n  <tbody>\n    <tr>\n      <th>setosa</th>\n      <td>33.333333</td>\n      <td>9.638554</td>\n      <td>NaN</td>\n    </tr>\n    <tr>\n      <th>versicolor</th>\n      <td>33.333333</td>\n      <td>50.602410</td>\n      <td>46.428571</td>\n    </tr>\n    <tr>\n      <th>virginica</th>\n      <td>33.333333</td>\n      <td>39.759036</td>\n      <td>53.571429</td>\n    </tr>\n  </tbody>\n</table>\n</div>"
     },
     "metadata": {},
     "output_type": "execute_result",
     "execution_count": 61
    }
   ],
   "source": [
    "percentages_df = pd.DataFrame({'complete':df_species_perc, 'thin': small_sepal_df_species_perc, 'slim':slim_df_species_perc})\n",
    "percentages_df"
   ]
  },
  {
   "cell_type": "code",
   "execution_count": 62,
   "metadata": {
    "pycharm": {
     "is_executing": false
    }
   },
   "outputs": [
    {
     "name": "stdout",
     "text": [
      "             complete       thin       slim\n",
      "setosa      33.333333   9.638554        NaN\n",
      "versicolor  33.333333  50.602410  46.428571\n",
      "virginica   33.333333  39.759036  53.571429\n"
     ],
     "output_type": "stream"
    },
    {
     "data": {
      "text/plain": "<Figure size 432x288 with 1 Axes>",
      "image/png": "[encoded data removed]"
     },
     "metadata": {
      "needs_background": "light"
     },
     "output_type": "display_data"
    }
   ],
   "source": [
    "import matplotlib.pyplot as plt\n",
    "import numpy as np\n",
    "\n",
    "print(percentages_df)\n",
    "dataframes_labels = percentages_df.index  # directly from the dataframe\n",
    "\n",
    "# Set distances between bars and their width\n",
    "x = np.arange(len(dataframes_labels))  # the label locations\n",
    "width = 0.25  # the width of the bars\n",
    "\n",
    "# Do the actual plotting\n",
    "fig, ax = plt.subplots()\n",
    "rects1 = ax.bar(x - width, percentages_df['complete'], width, label='complete')\n",
    "rects2 = ax.bar(x, percentages_df['thin'], width, label='thin')\n",
    "rects3 = ax.bar(x + width, percentages_df['slim'], width, label='slim')\n",
    "\n",
    "# Add some text for labels, title and custom x-axis tick labels, etc.\n",
    "ax.set_ylabel('Percentages')\n",
    "ax.set_title('Percentages of species per dataframe')\n",
    "ax.set_xticks(x)\n",
    "ax.set_xticklabels(dataframes_labels)\n",
    "fig.legend()\n",
    "plt.show()\n",
    "\n"
   ]
  },
  {
   "cell_type": "markdown",
   "metadata": {},
   "source": [
    "Or maybe you prefer it transposed?"
   ]
  },
  {
   "cell_type": "code",
   "execution_count": 63,
   "metadata": {
    "pycharm": {
     "is_executing": false
    }
   },
   "outputs": [
    {
     "name": "stdout",
     "text": [
      "             setosa  versicolor  virginica\n",
      "complete  33.333333   33.333333  33.333333\n",
      "thin       9.638554   50.602410  39.759036\n",
      "slim            NaN   46.428571  53.571429\n"
     ],
     "output_type": "stream"
    },
    {
     "data": {
      "text/plain": "<Figure size 432x288 with 1 Axes>",
      "image/png": "[encoded data removed]"
     },
     "metadata": {
      "needs_background": "light"
     },
     "output_type": "display_data"
    }
   ],
   "source": [
    "transposed_df = percentages_df.T\n",
    "print(transposed_df)\n",
    "\n",
    "dataframes_labels = transposed_df.index  # directly from the dataframe\n",
    "\n",
    "# Set distances between bars and their width\n",
    "x = np.arange(len(dataframes_labels))  # the label locations\n",
    "width = 0.25  # the width of the bars\n",
    "\n",
    "# Do the actual plotting\n",
    "fig, ax = plt.subplots()\n",
    "rects1 = ax.bar(x - width, transposed_df['setosa'], width, label='setosa')\n",
    "rects2 = ax.bar(x, transposed_df['versicolor'], width, label='versicolor')\n",
    "rects3 = ax.bar(x + width, transposed_df['virginica'], width, label='virginica')\n",
    "\n",
    "# Add some text for labels, title and custom x-axis tick labels, etc.\n",
    "ax.set_ylabel('Percentages')\n",
    "ax.set_title('Percentages of species per dataframe')\n",
    "ax.set_xticks(x)\n",
    "ax.set_xticklabels(dataframes_labels)\n",
    "fig.legend()\n",
    "plt.show()"
   ]
  },
  {
   "cell_type": "markdown",
   "metadata": {},
   "source": [
    "### More than plotting!"
   ]
  },
  {
   "cell_type": "markdown",
   "metadata": {},
   "source": [
    "So now we know that we can very easily operate, select and plot data by using dataframes. But these are still things that can be done easily in other tools, so let's do something cooler. I want to know if there's a correlation between the different dimensions of the plants. Let's do it from our original dataframe!"
   ]
  },
  {
   "cell_type": "code",
   "execution_count": 64,
   "metadata": {
    "pycharm": {
     "is_executing": false
    }
   },
   "outputs": [
    {
     "data": {
      "text/plain": "              sepal_length  sepal_width  petal_length  petal_width\nsepal_length      1.000000    -0.109369      0.871754     0.817954\nsepal_width      -0.109369     1.000000     -0.420516    -0.356544\npetal_length      0.871754    -0.420516      1.000000     0.962757\npetal_width       0.817954    -0.356544      0.962757     1.000000",
      "text/html": "<div>\n<style scoped>\n    .dataframe tbody tr th:only-of-type {\n        vertical-align: middle;\n    }\n\n    .dataframe tbody tr th {\n        vertical-align: top;\n    }\n\n    .dataframe thead th {\n        text-align: right;\n    }\n</style>\n<table border=\"1\" class=\"dataframe\">\n  <thead>\n    <tr style=\"text-align: right;\">\n      <th></th>\n      <th>sepal_length</th>\n      <th>sepal_width</th>\n      <th>petal_length</th>\n      <th>petal_width</th>\n    </tr>\n  </thead>\n  <tbody>\n    <tr>\n      <th>sepal_length</th>\n      <td>1.000000</td>\n      <td>-0.109369</td>\n      <td>0.871754</td>\n      <td>0.817954</td>\n    </tr>\n    <tr>\n      <th>sepal_width</th>\n      <td>-0.109369</td>\n      <td>1.000000</td>\n      <td>-0.420516</td>\n      <td>-0.356544</td>\n    </tr>\n    <tr>\n      <th>petal_length</th>\n      <td>0.871754</td>\n      <td>-0.420516</td>\n      <td>1.000000</td>\n      <td>0.962757</td>\n    </tr>\n    <tr>\n      <th>petal_width</th>\n      <td>0.817954</td>\n      <td>-0.356544</td>\n      <td>0.962757</td>\n      <td>1.000000</td>\n    </tr>\n  </tbody>\n</table>\n</div>"
     },
     "metadata": {},
     "output_type": "execute_result",
     "execution_count": 64
    }
   ],
   "source": [
    "df.corr()  # This is it, really, this is how to make the operation. "
   ]
  },
  {
   "cell_type": "code",
   "execution_count": 65,
   "metadata": {
    "pycharm": {
     "is_executing": false
    }
   },
   "outputs": [
    {
     "data": {
      "text/plain": "<Figure size 432x288 with 2 Axes>",
      "image/png": "[encoded data removed]"
     },
     "metadata": {
      "needs_background": "light"
     },
     "output_type": "display_data"
    }
   ],
   "source": [
    "import seaborn as sns \n",
    "ax = sns.heatmap(\n",
    "    df.corr(), \n",
    "    vmin=-1, vmax=1, center=0,\n",
    "    cmap=sns.diverging_palette(20, 220, n=200),\n",
    "    square=True\n",
    ")\n",
    "ax.set_xticklabels(\n",
    "    ax.get_xticklabels(),\n",
    "    rotation=45,\n",
    "    horizontalalignment='right'\n",
    ")\n",
    "ax.set_title('Global correlations');"
   ]
  },
  {
   "cell_type": "markdown",
   "metadata": {},
   "source": [
    "What if I want to know it for each species?!?!"
   ]
  },
  {
   "cell_type": "code",
   "execution_count": 66,
   "metadata": {
    "pycharm": {
     "name": "#%%\n",
     "is_executing": false
    }
   },
   "outputs": [
    {
     "name": "stdout",
     "text": [
      "              sepal_length  sepal_width  petal_length  petal_width\n",
      "sepal_length      1.000000     0.746780      0.263874     0.279092\n",
      "sepal_width       0.746780     1.000000      0.176695     0.279973\n",
      "petal_length      0.263874     0.176695      1.000000     0.306308\n",
      "petal_width       0.279092     0.279973      0.306308     1.000000\n",
      "              sepal_length  sepal_width  petal_length  petal_width\n",
      "sepal_length      1.000000     0.525911      0.754049     0.546461\n",
      "sepal_width       0.525911     1.000000      0.560522     0.663999\n",
      "petal_length      0.754049     0.560522      1.000000     0.786668\n",
      "petal_width       0.546461     0.663999      0.786668     1.000000\n",
      "              sepal_length  sepal_width  petal_length  petal_width\n",
      "sepal_length      1.000000     0.457228      0.864225     0.281108\n",
      "sepal_width       0.457228     1.000000      0.401045     0.537728\n",
      "petal_length      0.864225     0.401045      1.000000     0.322108\n",
      "petal_width       0.281108     0.537728      0.322108     1.000000\n"
     ],
     "output_type": "stream"
    },
    {
     "data": {
      "text/plain": "<Figure size 432x288 with 2 Axes>",
      "image/png": "[encoded data removed]"
     },
     "metadata": {
      "needs_background": "light"
     },
     "output_type": "display_data"
    },
    {
     "data": {
      "text/plain": "<Figure size 432x288 with 2 Axes>",
      "image/png": "[encoded data removed]"
     },
     "metadata": {
      "needs_background": "light"
     },
     "output_type": "display_data"
    },
    {
     "data": {
      "text/plain": "<Figure size 432x288 with 2 Axes>",
      "image/png": "[encoded data removed]"
     },
     "metadata": {
      "needs_background": "light"
     },
     "output_type": "display_data"
    }
   ],
   "source": [
    "for specie in df['species'].unique():\n",
    "    temp_df = df[df['species'] == specie]\n",
    "    temp_df.corr()\n",
    "    \n",
    "#     print(temp_df)\n",
    "    print(temp_df.corr())\n",
    "    ax = sns.heatmap(\n",
    "    temp_df.corr(), \n",
    "    vmin=-1, vmax=1, center=0,\n",
    "    cmap=sns.diverging_palette(20, 220, n=200),\n",
    "    square=True\n",
    "    )\n",
    "    ax.set_xticklabels(\n",
    "    ax.get_xticklabels(),\n",
    "    rotation=45,\n",
    "    horizontalalignment='right'\n",
    "    )\n",
    "    ax.set_title('{0} correlations'.format(specie))\n",
    "    plt.show()\n",
    "    plt.close();"
   ]
  },
  {
   "cell_type": "code",
   "execution_count": 66,
   "outputs": [],
   "source": [],
   "metadata": {
    "collapsed": false,
    "pycharm": {
     "name": "#%%\n",
     "is_executing": false
    }
   }
  }
 ],
 "metadata": {
  "kernelspec": {
   "display_name": "Python 3",
   "language": "python",
   "name": "python3"
  },
  "language_info": {
   "codemirror_mode": {
    "name": "ipython",
    "version": 3
   },
   "file_extension": ".py",
   "mimetype": "text/x-python",
   "name": "python",
   "nbconvert_exporter": "python",
   "pygments_lexer": "ipython3",
   "version": "3.6.10"
  },
  "pycharm": {
   "stem_cell": {
    "cell_type": "raw",
    "source": [],
    "metadata": {
     "collapsed": false
    }
   }
  }
 },
 "nbformat": 4,
 "nbformat_minor": 4
}