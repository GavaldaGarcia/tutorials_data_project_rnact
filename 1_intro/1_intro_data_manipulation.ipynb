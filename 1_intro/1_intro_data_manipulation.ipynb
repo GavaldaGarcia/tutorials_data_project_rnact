{
 "cells": [
  {
   "cell_type": "markdown",
   "metadata": {},
   "source": [
    "# Data collection project tutorials: Intro to python, jupyter notebook, pandas and data manipulation"
   ]
  },
  {
   "cell_type": "markdown",
   "metadata": {},
   "source": [
    "This is a Jupyter notebook. We had a small mention to them in the FAIR data workshop, but now we're going to use them as a tool to learn the very fundamentals of python and to grasp the unmeasurable importance of programing when we work with data. "
   ]
  },
  {
   "cell_type": "markdown",
   "metadata": {},
   "source": [
    "## Sweet introduction to chaos"
   ]
  },
  {
   "cell_type": "markdown",
   "metadata": {},
   "source": [
    "We will begin where everybody has begun with programming, with the *\"Hello world\"* exercise. We simply want python to **print** a piece of text, also known as **string**."
   ]
  },
  {
   "cell_type": "code",
   "execution_count": null,
   "metadata": {},
   "outputs": [],
   "source": [
    "print(\"Hello world\")"
   ]
  },
  {
   "cell_type": "markdown",
   "metadata": {},
   "source": [
    "Notice the qutoation marks (\"\\_\\_\\_\\_\") around the text? That's our way of telling python that this is text. Anything that we put between quotation marks becomes a piece of text and can be printed. Example:"
   ]
  },
  {
   "cell_type": "code",
   "execution_count": null,
   "metadata": {},
   "outputs": [],
   "source": [
    "print(\"Quarantine sucks\")\n",
    "print(\"wololo\")\n",
    "print(\"Is the lab open?\")"
   ]
  },
  {
   "cell_type": "markdown",
   "metadata": {},
   "source": [
    "What happens if we don't use them?"
   ]
  },
  {
   "cell_type": "code",
   "execution_count": null,
   "metadata": {},
   "outputs": [],
   "source": [
    "print(wololo)"
   ]
  },
  {
   "cell_type": "markdown",
   "metadata": {},
   "source": [
    "This error happens because python believes that wololo is a **variable**. A variable is an object that contains information, which can be for instance a string:"
   ]
  },
  {
   "cell_type": "code",
   "execution_count": null,
   "metadata": {},
   "outputs": [],
   "source": [
    "my_first_variable = \"Python is fun\"\n",
    "print(my_first_variable)"
   ]
  },
  {
   "cell_type": "markdown",
   "metadata": {},
   "source": [
    "But python can do much more than printing text :)"
   ]
  },
  {
   "cell_type": "markdown",
   "metadata": {},
   "source": [
    "## Data types and simple manipulations"
   ]
  },
  {
   "cell_type": "markdown",
   "metadata": {},
   "source": [
    "The three most commont types of data in python are: strings, floats and integers."
   ]
  },
  {
   "cell_type": "code",
   "execution_count": null,
   "metadata": {},
   "outputs": [],
   "source": [
    "string_var = 'bacon'\n",
    "float_var = 3.14\n",
    "int_var = 42"
   ]
  },
  {
   "cell_type": "markdown",
   "metadata": {},
   "source": [
    "And we can ask python which kind of data each variable contains with the command **type()**."
   ]
  },
  {
   "cell_type": "code",
   "execution_count": null,
   "metadata": {},
   "outputs": [],
   "source": [
    "print(type(string_var))\n",
    "print(type(float_var))\n",
    "print(type(int_var))"
   ]
  },
  {
   "cell_type": "markdown",
   "metadata": {},
   "source": [
    "Some operations with these variables are infective, some others are incompatible, and some others are possible after a transformation:"
   ]
  },
  {
   "cell_type": "code",
   "execution_count": null,
   "metadata": {},
   "outputs": [],
   "source": [
    "print(float_var+float_var)\n",
    "print(float_var + 1.2)\n",
    "print(string_var + string_var)\n",
    "print(string_var + ' is delicious')\n",
    "print(string_var + ' costs ' + str(float_var) + ' euros in my local supermarket')  # Float transformed into string\n",
    "print(int_var + int_var)\n",
    "print(int_var + float_var)  # Infective!"
   ]
  },
  {
   "cell_type": "markdown",
   "metadata": {},
   "source": [
    "We would need two sessions only to show every fancy way in which you can operate with variables, but for the sake of time, we'll go forward to data structures now."
   ]
  },
  {
   "cell_type": "markdown",
   "metadata": {},
   "source": [
    "## Data structures"
   ]
  },
  {
   "cell_type": "markdown",
   "metadata": {},
   "source": [
    "### Lists"
   ]
  },
  {
   "cell_type": "markdown",
   "metadata": {},
   "source": [
    "The most basic data structure is a **list**. A list is an array of data elements stored in the same object. Lists are definded with square brakets **\\[ \\]** in python's syntax. These elements can be of any kind, even variables and other lists:"
   ]
  },
  {
   "cell_type": "code",
   "execution_count": null,
   "metadata": {},
   "outputs": [],
   "source": [
    "my_list = ['ham', 'eggs', 42, float_var, [1,2,3,4], 3.14]\n",
    "print(my_list)"
   ]
  },
  {
   "cell_type": "markdown",
   "metadata": {},
   "source": [
    "Lists can be indexed, which means that we can choose which position to get the information from (keep in mind, python counts starting from 0):"
   ]
  },
  {
   "cell_type": "code",
   "execution_count": null,
   "metadata": {},
   "outputs": [],
   "source": [
    "print(my_list[0]) \n",
    "print(my_list[1])\n",
    "print(my_list[-1])\n",
    "print(my_list[-2])"
   ]
  },
  {
   "cell_type": "markdown",
   "metadata": {},
   "source": [
    "### Dictionaries"
   ]
  },
  {
   "cell_type": "markdown",
   "metadata": {},
   "source": [
    "A very pythonic data structure is the **dictionary**, which keeps unindexed (unsorted) values, which can be found with their key. Dictionaries are defined with curly brakets **{ }** in python's syntax. "
   ]
  },
  {
   "cell_type": "code",
   "execution_count": null,
   "metadata": {},
   "outputs": [],
   "source": [
    "my_car = {\"brand\": \"Ford\",\n",
    "  \"model\": \"Mustang\",\n",
    "  \"year\": 1964}\n",
    "print(my_car)"
   ]
  },
  {
   "cell_type": "markdown",
   "metadata": {},
   "source": [
    "So if we want to know the model of my car we'll do the following:"
   ]
  },
  {
   "cell_type": "code",
   "execution_count": null,
   "metadata": {},
   "outputs": [],
   "source": [
    "print(my_car['model'])"
   ]
  },
  {
   "cell_type": "markdown",
   "metadata": {},
   "source": [
    "But I forgot to mention that I upgraded it in 2010!!! Let me just put that in..."
   ]
  },
  {
   "cell_type": "code",
   "execution_count": null,
   "metadata": {},
   "outputs": [],
   "source": [
    "my_car['upgraded'] = 2010\n",
    "print(my_car)"
   ]
  },
  {
   "cell_type": "markdown",
   "metadata": {},
   "source": [
    "Perfect"
   ]
  },
  {
   "cell_type": "markdown",
   "metadata": {},
   "source": [
    "So why all this? Explanation? Because the syntax of the **dataframes** that we are interested in behave almost identically!"
   ]
  },
  {
   "cell_type": "markdown",
   "metadata": {},
   "source": [
    "## Pandas dataframes"
   ]
  },
  {
   "cell_type": "markdown",
   "metadata": {},
   "source": [
    "### Introduction to dataframes "
   ]
  },
  {
   "cell_type": "code",
   "execution_count": null,
   "metadata": {},
   "outputs": [],
   "source": [
    "import pandas as pd\n",
    "import io\n",
    "import requests\n",
    "\n",
    "download = False\n",
    "\n",
    "if download:\n",
    "    url=\"https://gist.githubusercontent.com/curran/a08a1080b88344b0c8a7/raw/639388c2cbc2120a14dcf466e85730eb8be498bb/iris.csv\"\n",
    "    s=requests.get(url).content\n",
    "    df=pd.read_csv(io.StringIO(s.decode('utf-8')))\n",
    "else:\n",
    "    df = pd.read_csv('./iris.csv')\n",
    "\n",
    "df"
   ]
  },
  {
   "cell_type": "markdown",
   "metadata": {},
   "source": [
    "Subset only species"
   ]
  },
  {
   "cell_type": "code",
   "execution_count": null,
   "metadata": {},
   "outputs": [],
   "source": [
    "df['species']"
   ]
  },
  {
   "cell_type": "markdown",
   "metadata": {},
   "source": [
    "How many unique species do we have?"
   ]
  },
  {
   "cell_type": "code",
   "execution_count": null,
   "metadata": {},
   "outputs": [],
   "source": [
    "unique_species = df['species'].unique()\n",
    "print(unique_species)"
   ]
  },
  {
   "cell_type": "markdown",
   "metadata": {},
   "source": [
    "Since we are here, let's do a mini intermezzo to explain how to iterate through an indexed object, like our prevoius output:"
   ]
  },
  {
   "cell_type": "code",
   "execution_count": null,
   "metadata": {},
   "outputs": [],
   "source": [
    "for species in unique_species:  # Takes each element (species) in an indexed object (unique_species)\n",
    "    print(species + ' are beautiful flowers')  # And does something with this element. In this case tell the whole world how beautiful they are"
   ]
  },
  {
   "cell_type": "markdown",
   "metadata": {},
   "source": [
    "### Basic data selection"
   ]
  },
  {
   "cell_type": "markdown",
   "metadata": {},
   "source": [
    "Let's say that for some reason, I don't like wide sepals, so I want to know which of these my entries have a sepal no bigger than 3 cm"
   ]
  },
  {
   "cell_type": "code",
   "execution_count": null,
   "metadata": {},
   "outputs": [],
   "source": [
    "small_sepal_df = df[df['sepal_width']<= 3.0]\n",
    "small_sepal_df"
   ]
  },
  {
   "cell_type": "markdown",
   "metadata": {},
   "source": [
    "Or maybe what I don't like is the ratio of \"chubby sepals\", so I want to select those entries with a sepal_length/sepal_width of at least 2:"
   ]
  },
  {
   "cell_type": "code",
   "execution_count": null,
   "metadata": {},
   "outputs": [],
   "source": [
    "slim_df = df[df['sepal_length']/df['sepal_width']>=2.0]\n",
    "slim_df"
   ]
  },
  {
   "cell_type": "markdown",
   "metadata": {},
   "source": [
    "### Make and plot our own dataframes"
   ]
  },
  {
   "cell_type": "markdown",
   "metadata": {},
   "source": [
    "What's the percentage of species in each of these dataframes?"
   ]
  },
  {
   "cell_type": "code",
   "execution_count": null,
   "metadata": {},
   "outputs": [],
   "source": [
    "df_species_perc = df['species'].value_counts(normalize=True) * 100\n",
    "small_sepal_df_species_perc = small_sepal_df['species'].value_counts(normalize=True) * 100\n",
    "slim_df_species_perc = slim_df['species'].value_counts(normalize=True) * 100"
   ]
  },
  {
   "cell_type": "code",
   "execution_count": null,
   "metadata": {},
   "outputs": [],
   "source": [
    "percentages_df = pd.DataFrame({'complete':df_species_perc, 'thin': small_sepal_df_species_perc, 'slim':slim_df_species_perc})\n",
    "percentages_df"
   ]
  },
  {
   "cell_type": "code",
   "execution_count": null,
   "metadata": {},
   "outputs": [],
   "source": [
    "import matplotlib.pyplot as plt\n",
    "import numpy as np\n",
    "\n",
    "print(percentages_df)\n",
    "dataframes_labels = percentages_df.index  # directly from the dataframe\n",
    "\n",
    "# Set distances between bars and their width\n",
    "x = np.arange(len(dataframes_labels))  # the label locations\n",
    "width = 0.25  # the width of the bars\n",
    "\n",
    "# Do the actual plotting\n",
    "fig, ax = plt.subplots()\n",
    "rects1 = ax.bar(x - width, percentages_df['complete'], width, label='complete')\n",
    "rects2 = ax.bar(x, percentages_df['thin'], width, label='thin')\n",
    "rects3 = ax.bar(x + width, percentages_df['slim'], width, label='slim')\n",
    "\n",
    "# Add some text for labels, title and custom x-axis tick labels, etc.\n",
    "ax.set_ylabel('Percentages')\n",
    "ax.set_title('Percentages of species per dataframe')\n",
    "ax.set_xticks(x)\n",
    "ax.set_xticklabels(dataframes_labels)\n",
    "fig.legend()\n",
    "plt.show()\n",
    "\n"
   ]
  },
  {
   "cell_type": "markdown",
   "metadata": {},
   "source": [
    "Or maybe you prefer it transposed?"
   ]
  },
  {
   "cell_type": "code",
   "execution_count": null,
   "metadata": {},
   "outputs": [],
   "source": [
    "transposed_df = percentages_df.T\n",
    "print(transposed_df)\n",
    "\n",
    "dataframes_labels = transposed_df.index  # directly from the dataframe\n",
    "\n",
    "# Set distances between bars and their width\n",
    "x = np.arange(len(dataframes_labels))  # the label locations\n",
    "width = 0.25  # the width of the bars\n",
    "\n",
    "# Do the actual plotting\n",
    "fig, ax = plt.subplots()\n",
    "rects1 = ax.bar(x - width, transposed_df['setosa'], width, label='setosa')\n",
    "rects2 = ax.bar(x, transposed_df['versicolor'], width, label='versicolor')\n",
    "rects3 = ax.bar(x + width, transposed_df['virginica'], width, label='virginica')\n",
    "\n",
    "# Add some text for labels, title and custom x-axis tick labels, etc.\n",
    "ax.set_ylabel('Percentages')\n",
    "ax.set_title('Percentages of species per dataframe')\n",
    "ax.set_xticks(x)\n",
    "ax.set_xticklabels(dataframes_labels)\n",
    "fig.legend()\n",
    "plt.show()"
   ]
  },
  {
   "cell_type": "markdown",
   "metadata": {},
   "source": [
    "### More than plotting!"
   ]
  },
  {
   "cell_type": "markdown",
   "metadata": {},
   "source": [
    "So now we know that we can very easily operate, select and plot data by using dataframes. But these are still things that can be done easily in other tools, so let's do something cooler. I want to know if there's a correlation between the different dimensions of the plants. Let's do it from our original dataframe!"
   ]
  },
  {
   "cell_type": "code",
   "execution_count": null,
   "metadata": {},
   "outputs": [],
   "source": [
    "df.corr()  # This is it, really, this is how to make the operation. "
   ]
  },
  {
   "cell_type": "code",
   "execution_count": null,
   "metadata": {},
   "outputs": [],
   "source": [
    "import seaborn as sns \n",
    "ax = sns.heatmap(\n",
    "    df.corr(), \n",
    "    vmin=-1, vmax=1, center=0,\n",
    "    cmap=sns.diverging_palette(20, 220, n=200),\n",
    "    square=True\n",
    ")\n",
    "ax.set_xticklabels(\n",
    "    ax.get_xticklabels(),\n",
    "    rotation=45,\n",
    "    horizontalalignment='right'\n",
    ")\n",
    "ax.set_title('Global correlations');"
   ]
  },
  {
   "cell_type": "markdown",
   "metadata": {},
   "source": [
    "What if I want to know it for each species?!?!"
   ]
  },
  {
   "cell_type": "code",
   "execution_count": null,
   "metadata": {},
   "outputs": [],
   "source": [
    "for specie in df['species'].unique():\n",
    "    temp_df = df[df['species'] == specie]\n",
    "    temp_df.corr()\n",
    "    \n",
    "#     print(temp_df)\n",
    "    print(temp_df.corr())\n",
    "    ax = sns.heatmap(\n",
    "    temp_df.corr(), \n",
    "    vmin=-1, vmax=1, center=0,\n",
    "    cmap=sns.diverging_palette(20, 220, n=200),\n",
    "    square=True\n",
    "    )\n",
    "    ax.set_xticklabels(\n",
    "    ax.get_xticklabels(),\n",
    "    rotation=45,\n",
    "    horizontalalignment='right'\n",
    "    )\n",
    "    ax.set_title('{0} correlations'.format(specie))\n",
    "    plt.show()\n",
    "    plt.close();"
   ]
  },
  {
   "cell_type": "code",
   "execution_count": null,
   "metadata": {},
   "outputs": [],
   "source": []
  },
  {
   "cell_type": "code",
   "execution_count": null,
   "metadata": {},
   "outputs": [],
   "source": []
  },
  {
   "cell_type": "code",
   "execution_count": null,
   "metadata": {},
   "outputs": [],
   "source": []
  },
  {
   "cell_type": "code",
   "execution_count": null,
   "metadata": {},
   "outputs": [],
   "source": []
  }
 ],
 "metadata": {
  "kernelspec": {
   "display_name": "Python 3",
   "language": "python",
   "name": "python3"
  },
  "language_info": {
   "codemirror_mode": {
    "name": "ipython",
    "version": 3
   },
   "file_extension": ".py",
   "mimetype": "text/x-python",
   "name": "python",
   "nbconvert_exporter": "python",
   "pygments_lexer": "ipython3",
   "version": "3.6.9"
  }
 },
 "nbformat": 4,
 "nbformat_minor": 4
}
