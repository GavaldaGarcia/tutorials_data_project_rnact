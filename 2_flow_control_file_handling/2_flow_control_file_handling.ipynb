{
 "cells": [
  {
   "cell_type": "markdown",
   "metadata": {},
   "source": [
    "# Data collection project tutorials: Flow control and file handling"
   ]
  },
  {
   "cell_type": "markdown",
   "metadata": {},
   "source": [
    "During the first tutorial, we introduced the basic types of data and data structures in python. We also visited some small concepts of indexing and looping, but didn't dig in detail in them. That's what we're going to do today!"
   ]
  },
  {
   "cell_type": "markdown",
   "metadata": {},
   "source": [
    "## Flow control "
   ]
  },
  {
   "cell_type": "markdown",
   "metadata": {},
   "source": [
    "### \"for\" loops"
   ]
  },
  {
   "cell_type": "markdown",
   "metadata": {},
   "source": [
    "These loops make us visit every element in an indexed object, for intance, a list. So let's start explaining with a list:"
   ]
  },
  {
   "cell_type": "code",
   "execution_count": null,
   "metadata": {},
   "outputs": [],
   "source": [
    "my_list = ['hello', 'everybody', 'how', 'are', 'you']"
   ]
  },
  {
   "cell_type": "markdown",
   "metadata": {},
   "source": [
    "Let's first simply print each element of the list with a for loop"
   ]
  },
  {
   "cell_type": "code",
   "execution_count": null,
   "metadata": {},
   "outputs": [],
   "source": [
    "for thing in my_list:\n",
    "    print(thing)"
   ]
  },
  {
   "cell_type": "markdown",
   "metadata": {},
   "source": [
    "And we also saw that we can operate with each element in a for loop:"
   ]
  },
  {
   "cell_type": "code",
   "execution_count": null,
   "metadata": {},
   "outputs": [],
   "source": [
    "for word in my_list:\n",
    "    sentence = 'My program is going to print the word: ' + word\n",
    "    print(sentence)"
   ]
  },
  {
   "cell_type": "markdown",
   "metadata": {},
   "source": [
    "We can **nest** loops within loops, for instance, to obtain all possible combinations of elements in a list:"
   ]
  },
  {
   "cell_type": "code",
   "execution_count": null,
   "metadata": {},
   "outputs": [],
   "source": [
    "for word in my_list:\n",
    "    for other_word in my_list:\n",
    "        print(word + ' ' + other_word)"
   ]
  },
  {
   "cell_type": "markdown",
   "metadata": {},
   "source": [
    "At this point it might be convenient to introduce a flow visualizer tool, so we can see where in the scrip python is reading on each step: http://www.pythontutor.com/visualize.html#mode=edit"
   ]
  },
  {
   "cell_type": "markdown",
   "metadata": {},
   "source": [
    "For now, we'll leave the for loops aside until we use them in more complex code, and move on."
   ]
  },
  {
   "cell_type": "markdown",
   "metadata": {},
   "source": [
    "### \"if\" loops"
   ]
  },
  {
   "cell_type": "markdown",
   "metadata": {},
   "source": [
    "If loops, also known as \"if then\" loops can be seen as a decission based on information in real life. \n",
    "\n",
    "For example, let's say you're the bouncer at a club, and you don't allow anyone under the age of 18 to access the club. If you were an if loop, you will check their id card, evaluate whether the condition person_age >= 18, and if this statement is true, then you will let them in. Let's butcher this process in a programatic way:"
   ]
  },
  {
   "cell_type": "code",
   "execution_count": null,
   "metadata": {},
   "outputs": [],
   "source": [
    "person_0 = 17\n",
    "person_1 = 18\n",
    "person_2 = 21"
   ]
  },
  {
   "cell_type": "markdown",
   "metadata": {},
   "source": [
    "Let's evaluate for each case whether they are 18 or older:"
   ]
  },
  {
   "cell_type": "code",
   "execution_count": null,
   "metadata": {},
   "outputs": [],
   "source": [
    "print(person_0 >= 18)\n",
    "print(person_1 >= 18)\n",
    "print(person_2 >= 18)"
   ]
  },
  {
   "cell_type": "markdown",
   "metadata": {},
   "source": [
    "We might also want to re-direct people that are precisely 18 to another bouncer to check whethere the ID is real. In that case we need a different evaluation, equal (==). But I'm getting tired of typing so much, let me put them in a list so we can make this faster. "
   ]
  },
  {
   "cell_type": "code",
   "execution_count": null,
   "metadata": {},
   "outputs": [],
   "source": [
    "ages_list = [person_0, person_1, person_2]\n",
    "\n",
    "print(ages_list)"
   ]
  },
  {
   "cell_type": "code",
   "execution_count": null,
   "metadata": {},
   "outputs": [],
   "source": [
    "for person in ages_list:\n",
    "    print(person == 18)"
   ]
  },
  {
   "cell_type": "markdown",
   "metadata": {},
   "source": [
    "So here we used a for loop to iterate through each element in a list. Then, we evaluated for each element the condition person == 18 and got the boolean \"True\" or \"False\". An \"if\" loop performs these kind of evaluations and only proceeds with the code in it if the evaluation is \"True\". Example:"
   ]
  },
  {
   "cell_type": "code",
   "execution_count": null,
   "metadata": {},
   "outputs": [],
   "source": [
    "for person in ages_list:\n",
    "    if person >= 18:\n",
    "        print('Person is ' + str(person) + ' years old, therefore they are allowed in')\n",
    "    else:  # This means, any other condition. If all the evaluated conditions above are \"False\", the actions defined in 'else' will be executed\n",
    "        print('Person is ' + str(person) + ' years old, they can not come in')"
   ]
  },
  {
   "cell_type": "markdown",
   "metadata": {},
   "source": [
    "But we forgot about the second check! If the id says 18, we need to send it to check whether the id is real! Let's add a second (or as many as we need) condition using \"elif\". "
   ]
  },
  {
   "cell_type": "code",
   "execution_count": null,
   "metadata": {},
   "outputs": [],
   "source": [
    "for person in ages_list:\n",
    "    if person >= 18:\n",
    "        print('Person is ' + str(person) + ' years old, therefore they are allowed in')\n",
    "    elif person == 18:\n",
    "        print('Person is ' + str(person) + ' years old, needs a second check')\n",
    "    else:  # This means, any other condition. If all the evaluated conditions above are \"False\", the actions defined in 'else' will be executed\n",
    "        print('Person is ' + str(person) + ' years old, they can not come in')"
   ]
  },
  {
   "cell_type": "markdown",
   "metadata": {},
   "source": [
    "**Wait what happened here?** Is my computer broken? No. \n",
    "\n",
    "Computers only understand pure logic, and the instruction that it has is to evaluate as conditions appear and execute the code as soon as a condition is \"True\". So the first condition was wether the preson was \"At least 18\", which is true, so the first action is executed. We need to modify the code to get the right logic that we want. "
   ]
  },
  {
   "cell_type": "code",
   "execution_count": null,
   "metadata": {},
   "outputs": [],
   "source": [
    "for person in ages_list:\n",
    "    if person > 18:  # Now it only works for those older than 18, so anyone that is 19 or older\n",
    "        print('Person is ' + str(person) + ' years old, therefore they are allowed in')\n",
    "    elif person == 18:\n",
    "        print('Person is ' + str(person) + ' years old, needs a second check')\n",
    "    else:  # This means, any other condition. If all the evaluated conditions above are \"False\", the actions defined in 'else' will be executed\n",
    "        print('Person is ' + str(person) + ' years old, they can not come in')"
   ]
  },
  {
   "cell_type": "markdown",
   "metadata": {},
   "source": [
    "### Homework 1"
   ]
  },
  {
   "cell_type": "markdown",
   "metadata": {},
   "source": [
    "We now are going to implement the \"second check\" of the bouncer, to see if the id is real or fake. Use the list that I will define below to classify the people into the following outputs:\n",
    "\n",
    "- \"This person is [older than 18, put the number] years old, therefore they are allowed in without further checking\"\n",
    "- \"This person is 18, and their id is real, so they are allowed in\"\n",
    "- \"This person is 18, but their id is fake, so they are NOT allowed in\"\n",
    "- \"This person is [younger than 18], they are NOT allowed in\"\n",
    "\n",
    "And remember to substitute the text between brackets by the right age."
   ]
  },
  {
   "cell_type": "code",
   "execution_count": null,
   "metadata": {},
   "outputs": [],
   "source": [
    "persons_ids_list = [[15, 'fake'], [33, 'real'], [25, 'real'], [20, 'fake'], [18, 'real'], [18, 'fake'], [15, 'real'], [42, 'real']]"
   ]
  },
  {
   "cell_type": "markdown",
   "metadata": {},
   "source": [
    "And just as hints for your task, pay attention to the following lines of code:"
   ]
  },
  {
   "cell_type": "code",
   "execution_count": null,
   "metadata": {},
   "outputs": [],
   "source": [
    "print(persons_ids_list[2])\n",
    "print(persons_ids_list[2][0])\n",
    "print(persons_ids_list[2][1])"
   ]
  },
  {
   "cell_type": "markdown",
   "metadata": {},
   "source": [
    "**GOOD LUCK**"
   ]
  },
  {
   "cell_type": "markdown",
   "metadata": {},
   "source": [
    "## File input and output"
   ]
  },
  {
   "cell_type": "markdown",
   "metadata": {},
   "source": [
    "We are recycling the iris file from our previous exercise. This time we're going to read it using a more fundamental way than with pandas, as it was done last time. We are going to read it the way **any** file can be read in python, independently of its format:"
   ]
  },
  {
   "cell_type": "code",
   "execution_count": null,
   "metadata": {},
   "outputs": [],
   "source": [
    "f = open('../1_intro/iris.csv', 'r')\n",
    "for line in f:\n",
    "    print(line)\n",
    "f.close()"
   ]
  },
  {
   "cell_type": "markdown",
   "metadata": {},
   "source": [
    "Now we have read every line in the file and closed the file. The information is not yet available, so we need to re-open the file if we want to read from the top again. \n",
    "\n",
    "We are reading a comma-separated values file (.csv), so let's also make python understand that the elements need to be read separately and put them in lists:"
   ]
  },
  {
   "cell_type": "code",
   "execution_count": null,
   "metadata": {},
   "outputs": [],
   "source": [
    "f = open('../1_intro/iris.csv', 'r')\n",
    "for line in f:\n",
    "    print(line.split(','))\n",
    "f.close()"
   ]
  },
  {
   "cell_type": "markdown",
   "metadata": {},
   "source": [
    "Do you see that \"\\n\" in the last position of each list? That's the \"return\" value for python, which lets python know that there's a need to start a new line. For example:"
   ]
  },
  {
   "cell_type": "code",
   "execution_count": null,
   "metadata": {},
   "outputs": [],
   "source": [
    "print(\"This\\nmessage\\ngoes\\nin\\ndifferent\\nlines\")"
   ]
  },
  {
   "cell_type": "markdown",
   "metadata": {},
   "source": [
    "We can get rid of it we use the rstrip() function before splitting the elements in a list:"
   ]
  },
  {
   "cell_type": "code",
   "execution_count": null,
   "metadata": {},
   "outputs": [],
   "source": [
    "f = open('../1_intro/iris.csv', 'r')\n",
    "for line in f:\n",
    "    print(line.rstrip().split(','))  # first rstrip() is executed, then split(',') is applied to the output of rstrip()\n",
    "f.close()"
   ]
  },
  {
   "cell_type": "markdown",
   "metadata": {},
   "source": [
    "We can also put them together as we want to using either join():"
   ]
  },
  {
   "cell_type": "code",
   "execution_count": null,
   "metadata": {},
   "outputs": [],
   "source": [
    "f = open('../1_intro/iris.csv', 'r')\n",
    "for line in f:\n",
    "    temp = line.rstrip().split(',')  # first rstrip() is executed, then split(',') is applied to the output of rstrip()\n",
    "    print(' quarantine sucks '.join(temp))\n",
    "f.close()"
   ]
  },
  {
   "cell_type": "markdown",
   "metadata": {},
   "source": [
    "Or however we want with indexing:"
   ]
  },
  {
   "cell_type": "code",
   "execution_count": null,
   "metadata": {},
   "outputs": [],
   "source": [
    "f = open('../1_intro/iris.csv', 'r')\n",
    "for line in f:\n",
    "    temp = line.rstrip().split(',')  # first rstrip() is executed, then split(',') is applied to the output of rstrip()\n",
    "    print(temp[0] + ' yoooo ' + temp[2] + ' ' + temp[-1] + ' etc...')\n",
    "f.close()"
   ]
  },
  {
   "cell_type": "markdown",
   "metadata": {},
   "source": [
    "But let's say that we only want to print the lines that contain information about the variety virginica:"
   ]
  },
  {
   "cell_type": "code",
   "execution_count": null,
   "metadata": {},
   "outputs": [],
   "source": [
    "f = open('../1_intro/iris.csv', 'r')\n",
    "for line in f:\n",
    "    temp = line.rstrip().split(',')  # first rstrip() is executed, then split(',') is applied to the output of rstrip()\n",
    "    if temp[-1] == 'virginica':\n",
    "        print(' quarantine sucks '.join(temp))\n",
    "f.close()"
   ]
  },
  {
   "cell_type": "markdown",
   "metadata": {},
   "source": [
    "### Write output in file"
   ]
  },
  {
   "cell_type": "markdown",
   "metadata": {},
   "source": [
    "But now we want to write this selection in a file. For that, we need to first open a file with writing permissions and write if the desired condition is true:"
   ]
  },
  {
   "cell_type": "code",
   "execution_count": null,
   "metadata": {},
   "outputs": [],
   "source": [
    "outfile = open('virginica_output.txt', 'w')\n",
    "\n",
    "infile = open('../1_intro/iris.csv', 'r')\n",
    "for line in infile:\n",
    "    temp = line.rstrip().split(',')  # first rstrip() is executed, then split(',') is applied to the output of rstrip()\n",
    "    if temp[-1] == 'virginica':\n",
    "        outfile.write(' quarantine sucks '.join(temp))\n",
    "infile.close()\n",
    "outfile.close()"
   ]
  },
  {
   "cell_type": "markdown",
   "metadata": {},
   "source": [
    "So what happens with the file? Is this the output that you wanted? Why is it not splitting the lines?"
   ]
  },
  {
   "cell_type": "code",
   "execution_count": null,
   "metadata": {},
   "outputs": [],
   "source": [
    "outfile = open('virginica_output.txt', 'w')\n",
    "\n",
    "infile = open('../1_intro/iris.csv', 'r')\n",
    "for line in infile:\n",
    "    temp = line.rstrip().split(',')  # first rstrip() is executed, then split(',') is applied to the output of rstrip()\n",
    "    if temp[-1] == 'virginica':\n",
    "        outfile.write(' quarantine sucks '.join(temp) + '\\n')\n",
    "infile.close()\n",
    "outfile.close()"
   ]
  },
  {
   "cell_type": "markdown",
   "metadata": {},
   "source": [
    "**GOOD**"
   ]
  },
  {
   "cell_type": "markdown",
   "metadata": {},
   "source": [
    "### Homework 2"
   ]
  },
  {
   "cell_type": "markdown",
   "metadata": {},
   "source": [
    "Using the same iris dataset, write in the file \"ratios_setosa.txt\" the length/width ratios of the petals and sepals so it each line looks like this:\n",
    "\n",
    "`Petal ratio is [number], sepal ratio is [number], variety is setosa`\n",
    "\n",
    "Make sure that you're only calculating the setosa entries"
   ]
  },
  {
   "cell_type": "markdown",
   "metadata": {},
   "source": [
    "**Good luck!**"
   ]
  },
  {
   "cell_type": "code",
   "execution_count": null,
   "metadata": {},
   "outputs": [],
   "source": []
  }
 ],
 "metadata": {
  "kernelspec": {
   "display_name": "Python 3",
   "language": "python",
   "name": "python3"
  },
  "language_info": {
   "codemirror_mode": {
    "name": "ipython",
    "version": 3
   },
   "file_extension": ".py",
   "mimetype": "text/x-python",
   "name": "python",
   "nbconvert_exporter": "python",
   "pygments_lexer": "ipython3",
   "version": "3.6.10"
  }
 },
 "nbformat": 4,
 "nbformat_minor": 4
}
